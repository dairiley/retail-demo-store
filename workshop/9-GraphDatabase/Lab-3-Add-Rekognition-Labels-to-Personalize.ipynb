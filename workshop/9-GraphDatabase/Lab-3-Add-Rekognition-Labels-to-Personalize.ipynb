{
 "cells": [
  {
   "cell_type": "markdown",
   "source": [
    "# Lab 3- Add Rekognition Labels to Personalize (Optional)\n",
    "In this lab we will re-train Personalize with the newly generated label data from Rekognition.\n",
    "\n",
    "## Setup\n",
    "To start, we have to prepare our environment by importing dependencies and creating clients.\n",
    "\n",
    "### Import dependencies\n",
    "The following libraries are needed for this lab."
   ],
   "metadata": {
    "collapsed": false
   }
  },
  {
   "cell_type": "code",
   "execution_count": null,
   "outputs": [],
   "source": [
    "import boto3\n",
    "import json\n",
    "import uuid\n",
    "import time\n",
    "from botocore.exceptions import ClientError"
   ],
   "metadata": {
    "collapsed": false
   }
  },
  {
   "cell_type": "markdown",
   "source": [
    "### Create clients\n",
    "We will need the following AWS service clients in this lab."
   ],
   "metadata": {
    "collapsed": false
   }
  },
  {
   "cell_type": "code",
   "execution_count": null,
   "outputs": [],
   "source": [
    "personalize = boto3.client('personalize')"
   ],
   "metadata": {
    "collapsed": false
   }
  },
  {
   "cell_type": "markdown",
   "source": [
    "### Load variables saved in Lab 1\n",
    "At the end of Lab 1 we saved some variables that we'll need in this lab. The following cell with load those variables into this lab environment."
   ],
   "metadata": {
    "collapsed": false
   }
  },
  {
   "cell_type": "code",
   "execution_count": null,
   "outputs": [],
   "source": [
    "%store -r"
   ],
   "metadata": {
    "collapsed": false
   }
  },
  {
   "cell_type": "markdown",
   "source": [
    "## Configure Amazon Personalize\n",
    "Amazon Personalize requires a schema for each dataset it can map the column in our CSVs to fields for model training. Each schema is declared in JSON.\n",
    "\n",
    "#### Get Existing Datasets\n",
    "As we have already trained Personalize before, a dataset group already exists with our items, interactions and user data. The interactions and user data will remain the same in our new dataset group. In order to use the existing datasets, we have to get their ARNs. This can be achieved by finding the ARN of the dataset group, and using it to list existing datasets within that group."
   ],
   "metadata": {
    "collapsed": false
   }
  },
  {
   "cell_type": "code",
   "execution_count": null,
   "outputs": [],
   "source": [
    "datasetGroupArn = personalize.list_dataset_groups()[0]['datasetGroupArn']\n",
    "\n",
    "datasets = personalize.list_datasets(datasetGroupArn=datasetGroupArn)\n",
    "for dataset in datasets:\n",
    "    if users_dataset_arn and interactions_dataset_arn:\n",
    "        break\n",
    "    elif dataset['datasetType'] == \"USERS\":\n",
    "        users_dataset_arn = dataset['datasetArn']\n",
    "    elif dataset['datasetType'] == \"INTERACTIONS\":\n",
    "        interactions_dataset_arn = dataset['datasetArn']"
   ],
   "metadata": {
    "collapsed": false
   }
  },
  {
   "cell_type": "markdown",
   "source": [
    "\n",
    "#### Items Dataset Schema\n",
    "Schemas in Personalize are immutable meaning we can't just make changes to our existing schema. Instead, we have to create a new schema. For this one, we were able to take the schema defined in the Personalization workshop amd simply add our new field definition. We then run the boto3 commands to create the new schema.\n"
   ],
   "metadata": {
    "collapsed": false
   }
  },
  {
   "cell_type": "code",
   "execution_count": null,
   "outputs": [],
   "source": [
    "items_schema = {\n",
    "    \"type\": \"record\",\n",
    "    \"name\": \"Items\",\n",
    "    \"namespace\": \"com.amazonaws.personalize.schema\",\n",
    "    \"fields\": [\n",
    "        {\n",
    "            \"name\": \"ITEM_ID\",\n",
    "            \"type\": \"string\"\n",
    "        },\n",
    "        {\n",
    "            \"name\": \"PRICE\",\n",
    "            \"type\": \"float\"\n",
    "        },\n",
    "        {\n",
    "            \"name\": \"CATEGORY_L1\",\n",
    "            \"type\": \"string\",\n",
    "            \"categorical\": True,\n",
    "        },\n",
    "        {\n",
    "            \"name\": \"CATEGORY_L2\",\n",
    "            \"type\": \"string\",\n",
    "            \"categorical\": True,\n",
    "        },\n",
    "        {\n",
    "            \"name\": \"PRODUCT_DESCRIPTION\",\n",
    "            \"type\": \"string\",\n",
    "            \"textual\": True\n",
    "        },\n",
    "        {\n",
    "            \"name\": \"GENDER\",\n",
    "            \"type\": \"string\",\n",
    "            \"categorical\": True,\n",
    "        },\n",
    "        {\n",
    "            \"name\": \"PROMOTED\",\n",
    "            \"type\": \"string\"\n",
    "        },\n",
    "        { # Here we have our new field definition\n",
    "            \"name\": \"IMAGE_LABELS\",\n",
    "            \"type\": \"string\"\n",
    "        }\n",
    "    ],\n",
    "    \"version\": \"1.0\"\n",
    "}\n",
    "\n",
    "try:\n",
    "    create_schema_response = personalize.create_schema(\n",
    "        name = \"retaildemostore-products-items-with-rekognition\",\n",
    "        domain = 'ECOMMERCE',\n",
    "        schema = json.dumps(items_schema)\n",
    "    )\n",
    "    items_schema_arn = create_schema_response['schemaArn']\n",
    "    print(json.dumps(create_schema_response, indent=2))\n",
    "except personalize.exceptions.ResourceAlreadyExistsException:\n",
    "    print('You already created this schema, seemingly')\n",
    "    paginator = personalize.get_paginator('list_schemas')\n",
    "    for paginate_result in paginator.paginate():\n",
    "        for schema in paginate_result['schemas']:\n",
    "            if schema['name'] == 'retaildemostore-products-items':\n",
    "                items_schema_arn = schema['schemaArn']\n",
    "                print(f\"Using existing schema: {items_schema_arn}\")\n",
    "                break"
   ],
   "metadata": {
    "collapsed": false
   }
  },
  {
   "cell_type": "markdown",
   "source": [
    "### Create and Wait for Dataset Group\n",
    "To re-train Personalize with our new field, we have to recreate the dataset group. To do so, we call an API to create a resource and have to wait for it to become active."
   ],
   "metadata": {
    "collapsed": false
   }
  },
  {
   "cell_type": "code",
   "execution_count": null,
   "outputs": [],
   "source": [
    "try:\n",
    "    create_dataset_group_response = personalize.create_dataset_group(\n",
    "        name = 'retaildemostore-products-with-rekognition',\n",
    "        domain = 'ECOMMERCE'\n",
    "    )\n",
    "    dataset_group_arn = create_dataset_group_response['datasetGroupArn']\n",
    "    print(json.dumps(create_dataset_group_response, indent=2))\n",
    "except personalize.exceptions.ResourceAlreadyExistsException:\n",
    "    print('You already created this dataset group, seemingly')\n",
    "    paginator = personalize.get_paginator('list_dataset_groups')\n",
    "    for paginate_result in paginator.paginate():\n",
    "        for dataset_group in paginate_result['datasetGroups']:\n",
    "            if dataset_group['name'] == 'retaildemostore-products-with-rekognition':\n",
    "                dataset_group_arn = dataset_group['datasetGroupArn']\n",
    "                break\n",
    "\n",
    "print(f'DatasetGroupArn = {dataset_group_arn}')"
   ],
   "metadata": {
    "collapsed": false
   }
  },
  {
   "cell_type": "markdown",
   "source": [
    "#### Wait for Dataset Group to Have ACTIVE Status"
   ],
   "metadata": {
    "collapsed": false
   }
  },
  {
   "cell_type": "code",
   "execution_count": null,
   "outputs": [],
   "source": [
    "status = None\n",
    "max_time = time.time() + 3*60*60 # 3 hours\n",
    "while time.time() < max_time:\n",
    "    describe_dataset_group_response = personalize.describe_dataset_group(\n",
    "        datasetGroupArn = dataset_group_arn\n",
    "    )\n",
    "    status = describe_dataset_group_response[\"datasetGroup\"][\"status\"]\n",
    "    print(\"DatasetGroup: {}\".format(status))\n",
    "\n",
    "    if status == \"ACTIVE\" or status == \"CREATE FAILED\":\n",
    "        break\n",
    "\n",
    "    time.sleep(15)"
   ],
   "metadata": {
    "collapsed": false
   }
  },
  {
   "cell_type": "markdown",
   "source": [
    "### Re-Create Items Dataset\n",
    "We will re-create the items dataset and get the ARNs for the users and interactions datasets that were created when Personalize was first set up. We do not need to change these as the only difference is in the items dataset."
   ],
   "metadata": {
    "collapsed": false
   }
  },
  {
   "cell_type": "code",
   "execution_count": null,
   "outputs": [],
   "source": [
    "try:\n",
    "    dataset_type = \"ITEMS\"\n",
    "    create_dataset_response = personalize.create_dataset(\n",
    "        name = \"retaildemostore-products-items-with-rekognition\",\n",
    "        datasetType = dataset_type,\n",
    "        datasetGroupArn = dataset_group_arn,\n",
    "        schemaArn = items_schema_arn\n",
    "    )\n",
    "\n",
    "    items_dataset_arn = create_dataset_response['datasetArn']\n",
    "    print(json.dumps(create_dataset_response, indent=2))\n",
    "except personalize.exceptions.ResourceAlreadyExistsException:\n",
    "    print('You aready created this dataset, seemingly')\n",
    "    paginator = personalize.get_paginator('list_datasets')\n",
    "    for paginate_result in paginator.paginate(datasetGroupArn = dataset_group_arn):\n",
    "        for dataset in paginate_result['datasets']:\n",
    "            if dataset['name'] == 'retaildemostore-products-items-with-rekognition':\n",
    "                items_dataset_arn = dataset['datasetArn']\n",
    "                break\n",
    "\n",
    "print(f'Items dataset ARN = {items_dataset_arn}')"
   ],
   "metadata": {
    "collapsed": false
   }
  },
  {
   "cell_type": "markdown",
   "source": [
    "### Create Import Job\n",
    "As Personalize does not have permissions to access the CSV data in our S3 bucket by default, we have to attach the IAM role created in the Personalization workshop with the correct bucket policy attached."
   ],
   "metadata": {
    "collapsed": false
   }
  },
  {
   "cell_type": "code",
   "execution_count": null,
   "outputs": [],
   "source": [
    "iam = boto3.client(\"iam\")\n",
    "\n",
    "role_name = Uid+\"-PersonalizeS3\"\n",
    "\n",
    "response = iam.get_role(RoleName = role_name)\n",
    "role_arn = response['Role']['Arn']\n",
    "print(json.dumps(response['Role'], indent=2, default = str))"
   ],
   "metadata": {
    "collapsed": false
   }
  },
  {
   "cell_type": "markdown",
   "source": [
    "#### Import Job for Items Dataset"
   ],
   "metadata": {
    "collapsed": false
   }
  },
  {
   "cell_type": "code",
   "execution_count": null,
   "outputs": [],
   "source": [
    "import_job_suffix = str(uuid.uuid4())[:8]\n",
    "\n",
    "items_create_dataset_import_job_response = personalize.create_dataset_import_job(\n",
    "    jobName = \"retaildemostore-products-items-\" + import_job_suffix,\n",
    "    datasetArn = items_dataset_arn,\n",
    "    dataSource = {\n",
    "        \"dataLocation\": \"s3://{}/{}\".format(bucket, items_filename)\n",
    "    },\n",
    "    roleArn = role_arn\n",
    ")\n",
    "\n",
    "items_dataset_import_job_arn = items_create_dataset_import_job_response['datasetImportJobArn']\n",
    "print(json.dumps(items_create_dataset_import_job_response, indent=2))"
   ],
   "metadata": {
    "collapsed": false
   }
  },
  {
   "cell_type": "markdown",
   "source": [
    "#### Wait for Items Import Job to Complete\n",
    "The import job will take about 10-15 minutes to complete."
   ],
   "metadata": {
    "collapsed": false
   }
  },
  {
   "cell_type": "code",
   "execution_count": null,
   "outputs": [],
   "source": [
    "%%time\n",
    "\n",
    "max_time = time.time() + 3*60*60 # 3 hours\n",
    "while time.time() < max_time:\n",
    "    import_job_response = personalize.describe_dataset_import_job(\n",
    "        datasetImportJobArn = items_dataset_import_job_arn\n",
    "    )\n",
    "    status = import_job_response[\"datasetImportJob\"]['status']\n",
    "\n",
    "    if status == \"ACTIVE\":\n",
    "        print(f'Import job {items_dataset_import_job_arn} successfully completed')\n",
    "        break\n",
    "    elif status == \"CREATE FAILED\":\n",
    "        print(f'Import job {items_dataset_import_job_arn} failed')\n",
    "        if import_job_response[\"datasetImportJob\"].get('failureReason'):\n",
    "            print('   Reason: ' + import_job_response[\"datasetImportJob\"]['failureReason'])\n",
    "        break\n",
    "    else:\n",
    "        print('Import job still in progress')\n",
    "        time.sleep(60)"
   ],
   "metadata": {
    "collapsed": false
   }
  },
  {
   "cell_type": "markdown",
   "source": [
    "### Create Campaign\n",
    "With our updated items dataset imported into the dataset group, we can now go through and create the recommenders and solution versions. For more information on what the code below is doing, refer to Lab 3 of the Personalization workshop."
   ],
   "metadata": {
    "collapsed": false
   }
  },
  {
   "cell_type": "code",
   "execution_count": null,
   "outputs": [],
   "source": [
    "response = personalize.list_recipes(domain = \"ECOMMERCE\")\n",
    "\n",
    "try:\n",
    "    response = personalize.create_recommender(\n",
    "      name = 'retaildemostore-recommended-for-you-with-rekognition',\n",
    "      recipeArn = 'arn:aws:personalize:::recipe/aws-ecomm-recommended-for-you',\n",
    "      datasetGroupArn = dataset_group_arn\n",
    "    )\n",
    "    rfy_recommender_arn = response['recommenderArn']\n",
    "    print(json.dumps(response, indent=2))\n",
    "except personalize.exceptions.ResourceAlreadyExistsException:\n",
    "    print('You already created this recommender, seemingly')\n",
    "    paginator = personalize.get_paginator('list_recommenders')\n",
    "    for paginate_result in paginator.paginate(datasetGroupArn = dataset_group_arn):\n",
    "        for recommender in paginate_result['recommenders']:\n",
    "            if recommender['name'] == 'retaildemostore-recommended-for-you-with-rekognition':\n",
    "                rfy_recommender_arn = recommender['recommenderArn']\n",
    "                break\n",
    "\n",
    "print(f'Recommended For You recommender ARN = {rfy_recommender_arn}')\n",
    "\n",
    "try:\n",
    "    response = personalize.create_recommender(\n",
    "      name = 'retaildemostore-popular-items-with-rekognition',\n",
    "      recipeArn = 'arn:aws:personalize:::recipe/aws-ecomm-popular-items-by-views',\n",
    "      datasetGroupArn = dataset_group_arn\n",
    "    )\n",
    "    most_viewed_recommender_arn = response['recommenderArn']\n",
    "    print(json.dumps(response, indent=2))\n",
    "except personalize.exceptions.ResourceAlreadyExistsException:\n",
    "    print('You aready created this recommender, seemingly')\n",
    "    paginator = personalize.get_paginator('list_recommenders')\n",
    "    for paginate_result in paginator.paginate(datasetGroupArn = dataset_group_arn):\n",
    "        for recommender in paginate_result['recommenders']:\n",
    "            if recommender['name'] == 'retaildemostore-popular-items-with-rekognition':\n",
    "                most_viewed_recommender_arn = recommender['recommenderArn']\n",
    "                break\n",
    "\n",
    "print(f'Most Viewed recommender ARN = {most_viewed_recommender_arn}')\n",
    "\n",
    "response = personalize.list_recipes()\n",
    "custom_recipes = []\n",
    "for recipe in response['recipes']:\n",
    "    if not recipe.get('domain'):\n",
    "        custom_recipes.append(recipe)\n",
    "similar_items_recipe_arn = \"arn:aws:personalize:::recipe/aws-similar-items\"\n",
    "ranking_recipe_arn = \"arn:aws:personalize:::recipe/aws-personalized-ranking\"\n",
    "item_attribute_affinity_recipe_arn = 'arn:aws:personalize:::recipe/aws-item-attribute-affinity'\n",
    "\n",
    "similar_items_solution_version_arn = None\n",
    "\n",
    "try:\n",
    "    create_solution_response = personalize.create_solution(\n",
    "        name = \"retaildemostore-related-items-with-rekognition\",\n",
    "        datasetGroupArn = dataset_group_arn,\n",
    "        recipeArn = similar_items_recipe_arn\n",
    "    )\n",
    "\n",
    "    similar_items_solution_arn = create_solution_response['solutionArn']\n",
    "    print(json.dumps(create_solution_response, indent=2))\n",
    "except personalize.exceptions.ResourceAlreadyExistsException:\n",
    "    print('You aready created this solution, seemingly')\n",
    "    paginator = personalize.get_paginator('list_solutions')\n",
    "    for paginate_result in paginator.paginate(datasetGroupArn = dataset_group_arn):\n",
    "        for solution in paginate_result['solutions']:\n",
    "            if solution['name'] == 'retaildemostore-related-items-with-rekognition':\n",
    "                similar_items_solution_arn = solution['solutionArn']\n",
    "                print(f'Similar Items solution ARN = {similar_items_solution_arn}')\n",
    "\n",
    "                response = personalize.list_solution_versions(\n",
    "                    solutionArn = similar_items_solution_arn,\n",
    "                    maxResults = 100\n",
    "                )\n",
    "                if len(response['solutionVersions']) > 0:\n",
    "                    similar_items_solution_version_arn = response['solutionVersions'][-1]['solutionVersionArn']\n",
    "                    print(f'Will use most recent solution version for this solution: {similar_items_solution_version_arn}')\n",
    "\n",
    "                break\n",
    "\n",
    "if not similar_items_solution_version_arn:\n",
    "    create_solution_version_response = personalize.create_solution_version(\n",
    "        solutionArn = similar_items_solution_arn\n",
    "    )\n",
    "    similar_items_solution_version_arn = create_solution_version_response['solutionVersionArn']\n",
    "else:\n",
    "    print(f'Solution version {similar_items_solution_version_arn} already exists; not creating')\n",
    "\n",
    "ranking_solution_version_arn = None\n",
    "\n",
    "try:\n",
    "    create_solution_response = personalize.create_solution(\n",
    "        name = \"retaildemostore-personalized-ranking-with-rekognition\",\n",
    "        datasetGroupArn = dataset_group_arn,\n",
    "        recipeArn = ranking_recipe_arn\n",
    "    )\n",
    "\n",
    "    ranking_solution_arn = create_solution_response['solutionArn']\n",
    "    print(json.dumps(create_solution_response, indent=2))\n",
    "except personalize.exceptions.ResourceAlreadyExistsException:\n",
    "    print('You aready created this solution, seemingly')\n",
    "    paginator = personalize.get_paginator('list_solutions')\n",
    "    for paginate_result in paginator.paginate(datasetGroupArn = dataset_group_arn):\n",
    "        for solution in paginate_result['solutions']:\n",
    "            if solution['name'] == 'retaildemostore-personalized-ranking-with-rekognition':\n",
    "                ranking_solution_arn = solution['solutionArn']\n",
    "                print(f'Ranking solution ARN = {ranking_solution_arn}')\n",
    "\n",
    "                response = personalize.list_solution_versions(\n",
    "                    solutionArn = ranking_solution_arn,\n",
    "                    maxResults = 100\n",
    "                )\n",
    "                if len(response['solutionVersions']) > 0:\n",
    "                    ranking_solution_version_arn = response['solutionVersions'][-1]['solutionVersionArn']\n",
    "                    print(f'Will use most recent solution version for this solution: {ranking_solution_version_arn}')\n",
    "\n",
    "                break\n",
    "if not ranking_solution_version_arn:\n",
    "    create_solution_version_response = personalize.create_solution_version(\n",
    "        solutionArn = ranking_solution_arn\n",
    "    )\n",
    "    ranking_solution_version_arn = create_solution_version_response['solutionVersionArn']\n",
    "else:\n",
    "    print(f'Solution version {ranking_solution_version_arn} already exists; not creating')\n",
    "item_attribute_affinity_solution_version_arn = None\n",
    "\n",
    "try:\n",
    "    create_solution_response = personalize.create_solution(\n",
    "        name = \"retaildemostore-item-attribute-affinity-with-rekognition\",\n",
    "        datasetGroupArn = dataset_group_arn,\n",
    "        recipeArn = item_attribute_affinity_recipe_arn\n",
    "    )\n",
    "\n",
    "    item_attribute_affinity_solution_arn = create_solution_response['solutionArn']\n",
    "    print(json.dumps(create_solution_response, indent=2))\n",
    "except personalize.exceptions.ResourceAlreadyExistsException:\n",
    "    print('You already created this solution, seemingly')\n",
    "    paginator = personalize.get_paginator('list_solutions')\n",
    "    for paginate_result in paginator.paginate(datasetGroupArn = dataset_group_arn):\n",
    "        for solution in paginate_result['solutions']:\n",
    "            if solution['name'] == 'retaildemostore-item-attribute-affinity-with-rekognition':\n",
    "                item_attribute_affinity_solution_arn = solution['solutionArn']\n",
    "                print(f'Item Attribute Affinity solution ARN = {item_attribute_affinity_solution_arn}')\n",
    "\n",
    "                response = personalize.list_solution_versions(\n",
    "                    solutionArn = item_attribute_affinity_solution_arn,\n",
    "                    maxResults = 100\n",
    "                )\n",
    "                if len(response['solutionVersions']) > 0:\n",
    "                    item_attribute_affinity_solution_version_arn = response['solutionVersions'][-1]['solutionVersionArn']\n",
    "                    print(f'Will use most recent solution version for this solution: {item_attribute_affinity_solution_version_arn}')\n",
    "\n",
    "                break\n",
    "if not item_attribute_affinity_solution_version_arn:\n",
    "    create_solution_version_response = personalize.create_solution_version(\n",
    "        solutionArn = item_attribute_affinity_solution_arn\n",
    "    )\n",
    "    item_attribute_affinity_solution_version_arn = create_solution_version_response['solutionVersionArn']\n",
    "else:\n",
    "    print(f'Solution version {item_attribute_affinity_solution_version_arn} already exists; not creating')"
   ],
   "metadata": {
    "collapsed": false
   }
  },
  {
   "cell_type": "markdown",
   "source": [
    "#### Wait for Recommenders and Solution Versions to Complete\n",
    "It can take 40-60 minutes for all recommenders and solution versions to be created."
   ],
   "metadata": {
    "collapsed": false
   }
  },
  {
   "cell_type": "code",
   "execution_count": null,
   "outputs": [],
   "source": [
    "%%time\n",
    "\n",
    "recommender_arns = [ rfy_recommender_arn, most_viewed_recommender_arn ]\n",
    "\n",
    "max_time = time.time() + 3*60*60 # 3 hours\n",
    "while time.time() < max_time:\n",
    "    for recommender_arn in reversed(recommender_arns):\n",
    "        response = personalize.describe_recommender(\n",
    "            recommenderArn = recommender_arn\n",
    "        )\n",
    "        status = response[\"recommender\"][\"status\"]\n",
    "\n",
    "        if status == \"ACTIVE\":\n",
    "            print(f'Recommender {recommender_arn} successfully completed')\n",
    "            recommender_arns.remove(recommender_arn)\n",
    "        elif status == \"CREATE FAILED\":\n",
    "            print(f'Recommender {recommender_arn} failed')\n",
    "            if response[\"recommender\"].get('failureReason'):\n",
    "                print('   Reason: ' + response[\"recommender\"]['failureReason'])\n",
    "            recommender_arns.remove(recommender_arn)\n",
    "\n",
    "    if len(recommender_arns) > 0:\n",
    "        print('At least one recommender is still in progress')\n",
    "        time.sleep(60)\n",
    "    else:\n",
    "        print(\"All recommenders have completed\")\n",
    "        break\n",
    "\n",
    "soln_ver_arns = [\n",
    "    similar_items_solution_version_arn,\n",
    "    ranking_solution_version_arn,\n",
    "    item_attribute_affinity_solution_version_arn\n",
    "]\n",
    "\n",
    "max_time = time.time() + 3*60*60 # 3 hours\n",
    "while time.time() < max_time:\n",
    "    for soln_ver_arn in reversed(soln_ver_arns):\n",
    "        soln_ver_response = personalize.describe_solution_version(\n",
    "            solutionVersionArn = soln_ver_arn\n",
    "        )\n",
    "        status = soln_ver_response[\"solutionVersion\"][\"status\"]\n",
    "\n",
    "        if status == \"ACTIVE\":\n",
    "            print(f'Solution version {soln_ver_arn} successfully completed')\n",
    "            soln_ver_arns.remove(soln_ver_arn)\n",
    "        elif status == \"CREATE FAILED\":\n",
    "            print(f'Solution version {soln_ver_arn} failed')\n",
    "            if soln_ver_response[\"solutionVersion\"].get('failureReason'):\n",
    "                print('   Reason: ' + soln_ver_response[\"solutionVersion\"]['failureReason'])\n",
    "            soln_ver_arns.remove(soln_ver_arn)\n",
    "\n",
    "    if len(soln_ver_arns) > 0:\n",
    "        print('At least one solution version is still in progress')\n",
    "        time.sleep(60)\n",
    "    else:\n",
    "        print(\"All solution versions have completed\")\n",
    "        break"
   ],
   "metadata": {
    "collapsed": false
   }
  },
  {
   "cell_type": "markdown",
   "source": [
    "### Create Campaigns for Similar Items and Personalized Ranking Solutions\n",
    "Once creation of the solution versions is complete, we can create the new campaigns.\n",
    "\n",
    "#### Create Similar Items Campaign"
   ],
   "metadata": {
    "collapsed": false
   }
  },
  {
   "cell_type": "code",
   "execution_count": null,
   "outputs": [],
   "source": [
    "try:\n",
    "    create_campaign_response = personalize.create_campaign(\n",
    "        name = \"retaildemostore-related-items-with-rekognition\",\n",
    "        solutionVersionArn = similar_items_solution_version_arn,\n",
    "        minProvisionedTPS = 1\n",
    "    )\n",
    "\n",
    "    similar_items_campaign_arn = create_campaign_response['campaignArn']\n",
    "    print(json.dumps(create_campaign_response, indent=2))\n",
    "except personalize.exceptions.ResourceAlreadyExistsException:\n",
    "    print('You aready created this campaign, seemingly. Will update campaign instead.')\n",
    "    paginator = personalize.get_paginator('list_campaigns')\n",
    "    for paginate_result in paginator.paginate(solutionArn = similar_items_solution_arn):\n",
    "        for campaign in paginate_result['campaigns']:\n",
    "            if campaign['name'] == 'retaildemostore-related-items-with-rekognition':\n",
    "                similar_items_campaign_arn = campaign['campaignArn']\n",
    "                print(f'Found existing campaign for solution: {similar_items_campaign_arn}')\n",
    "\n",
    "                response = personalize.describe_campaign(campaignArn = similar_items_campaign_arn)\n",
    "                if response['campaign']['solutionVersionArn'] == similar_items_solution_version_arn:\n",
    "                    print('Campaign is already using the latest solution version')\n",
    "                else:\n",
    "                    print('Updating campaign with the latest solution version')\n",
    "                    response = personalize.update_campaign(\n",
    "                        campaignArn = similar_items_campaign_arn,\n",
    "                        solutionVersionArn = similar_items_solution_version_arn,\n",
    "                        minProvisionedTPS = 1\n",
    "                    )\n",
    "                    print(json.dumps(response, indent=2))\n",
    "                break"
   ],
   "metadata": {
    "collapsed": false
   }
  },
  {
   "cell_type": "markdown",
   "source": [
    "#### Create Personalized Ranking Campaign"
   ],
   "metadata": {
    "collapsed": false
   }
  },
  {
   "cell_type": "code",
   "execution_count": null,
   "outputs": [],
   "source": [
    "try:\n",
    "    create_campaign_response = personalize.create_campaign(\n",
    "        name = \"retaildemostore-personalized-ranking-with-rekognition\",\n",
    "        solutionVersionArn = ranking_solution_version_arn,\n",
    "        minProvisionedTPS = 1\n",
    "    )\n",
    "\n",
    "    ranking_campaign_arn = create_campaign_response['campaignArn']\n",
    "    print(json.dumps(create_campaign_response, indent=2))\n",
    "except personalize.exceptions.ResourceAlreadyExistsException:\n",
    "    print('You aready created this campaign, seemingly. Will update campaign instead.')\n",
    "    paginator = personalize.get_paginator('list_campaigns')\n",
    "    for paginate_result in paginator.paginate(solutionArn = ranking_solution_arn):\n",
    "        for campaign in paginate_result['campaigns']:\n",
    "            if campaign['name'] == 'retaildemostore-personalized-ranking-with-rekognition':\n",
    "                ranking_campaign_arn = campaign['campaignArn']\n",
    "                print(f'Found existing campaign for solution: {ranking_campaign_arn}')\n",
    "\n",
    "                response = personalize.describe_campaign(campaignArn = ranking_campaign_arn)\n",
    "                if response['campaign']['solutionVersionArn'] == ranking_solution_version_arn:\n",
    "                    print('Campaign is already using the latest solution version')\n",
    "                else:\n",
    "                    print('Updating campaign with the latest solution version')\n",
    "                    response = personalize.update_campaign(\n",
    "                        campaignArn = ranking_campaign_arn,\n",
    "                        solutionVersionArn = ranking_solution_version_arn,\n",
    "                        minProvisionedTPS = 1\n",
    "                    )\n",
    "                    print(json.dumps(response, indent=2))\n",
    "                break"
   ],
   "metadata": {
    "collapsed": false
   }
  },
  {
   "cell_type": "markdown",
   "source": [
    "#### Wait for Campaigns to have ACTIVE Status\n",
    "This can take 15-20 minutes to complete."
   ],
   "metadata": {
    "collapsed": false
   }
  },
  {
   "cell_type": "code",
   "execution_count": null,
   "outputs": [],
   "source": [
    "%%time\n",
    "\n",
    "campaign_arns = [ similar_items_campaign_arn, ranking_campaign_arn ]\n",
    "\n",
    "max_time = time.time() + 3*60*60 # 3 hours\n",
    "while time.time() < max_time:\n",
    "    for campaign_arn in reversed(campaign_arns):\n",
    "        campaign_response = personalize.describe_campaign(\n",
    "            campaignArn = campaign_arn\n",
    "        )\n",
    "        status = campaign_response[\"campaign\"][\"status\"]\n",
    "        if status == 'ACTIVE' and campaign_response.get('latestCampaignUpdate'):\n",
    "            status = campaign_response['latestCampaignUpdate']['status']\n",
    "\n",
    "        if status == \"ACTIVE\":\n",
    "            print(f'Campaign {campaign_arn} successfully completed')\n",
    "            campaign_arns.remove(campaign_arn)\n",
    "        elif status == \"CREATE FAILED\":\n",
    "            print(f'Campaign {campaign_arn} failed')\n",
    "            if campaign_response[\"campaign\"].get('failureReason'):\n",
    "                print('   Reason: ' + campaign_response[\"campaign\"]['failureReason'])\n",
    "            campaign_arns.remove(campaign_arn)\n",
    "\n",
    "    if len(campaign_arns) > 0:\n",
    "        print('At least one campaign is still in progress')\n",
    "        time.sleep(60)\n",
    "    else:\n",
    "        print(\"All campaigns have completed\")\n",
    "        break"
   ],
   "metadata": {
    "collapsed": false
   }
  },
  {
   "cell_type": "markdown",
   "source": [
    "## Replace Previous Campaigns\n",
    "Now that the new campaigns are created, we have to replace the old campaigns in the Retail Demo Store Recommendations service. The Recommendations service is called by the Retail Demo Store Web UI when a user visits a page with personalized content capabilities. The Recommendations service checks Systems Manager Parameter values to determine the Personalize recommender and campaign ARNs to use for each of our personalization use cases.\n",
    "\n",
    "Let's replace the recommender and campaign ARNs with the ones we just created.\n",
    "\n",
    "### Update SSM Parameters to Enable Recommenders"
   ],
   "metadata": {
    "collapsed": false
   }
  },
  {
   "cell_type": "code",
   "execution_count": null,
   "outputs": [],
   "source": [
    "ssm = boto3.client('ssm')"
   ],
   "metadata": {
    "collapsed": false
   }
  },
  {
   "cell_type": "code",
   "execution_count": null,
   "outputs": [],
   "source": [
    "response = ssm.put_parameter(\n",
    "    Name='/retaildemostore/personalize/recommended-for-you-arn',\n",
    "    Description='Retail Demo Store Recommended For You Recommender/Campaign Arn Parameter',\n",
    "    Value='{}'.format(rfy_recommender_arn),\n",
    "    Type='String',\n",
    "    Overwrite=True\n",
    ")"
   ],
   "metadata": {
    "collapsed": false
   }
  },
  {
   "cell_type": "code",
   "execution_count": null,
   "outputs": [],
   "source": [
    "response = ssm.put_parameter(\n",
    "    Name='/retaildemostore/personalize/popular-items-arn',\n",
    "    Description='Retail Demo Store Most Viewed Recommender/Campaign Arn Parameter',\n",
    "    Value='{}'.format(most_viewed_recommender_arn),\n",
    "    Type='String',\n",
    "    Overwrite=True\n",
    ")"
   ],
   "metadata": {
    "collapsed": false
   }
  },
  {
   "cell_type": "markdown",
   "source": [
    "### Update SSM Parameter to Enable Campaigns"
   ],
   "metadata": {
    "collapsed": false
   }
  },
  {
   "cell_type": "code",
   "execution_count": null,
   "outputs": [],
   "source": [
    "response = ssm.put_parameter(\n",
    "    Name='/retaildemostore/personalize/related-items-arn',\n",
    "    Description='Retail Demo Store Also Viewed Recommender/Campaign Arn Parameter',\n",
    "    Value='{}'.format(similar_items_campaign_arn),\n",
    "    Type='String',\n",
    "    Overwrite=True\n",
    ")"
   ],
   "metadata": {
    "collapsed": false
   }
  },
  {
   "cell_type": "code",
   "execution_count": null,
   "outputs": [],
   "source": [
    "response = ssm.put_parameter(\n",
    "    Name='/retaildemostore/personalize/personalized-ranking-arn',\n",
    "    Description='Retail Demo Store Personalized Ranking Campaign Arn Parameter',\n",
    "    Value='{}'.format(ranking_campaign_arn),\n",
    "    Type='String',\n",
    "    Overwrite=True\n",
    ")"
   ],
   "metadata": {
    "collapsed": false
   }
  },
  {
   "cell_type": "markdown",
   "source": [
    "## Evaluate Personalization in Retail Demo Store's Web UI\n",
    "You can now go to the Retail Demo Store Web UI to see how recommendations have changed."
   ],
   "metadata": {
    "collapsed": false
   }
  },
  {
   "cell_type": "markdown",
   "source": [
    "## Delete Old Campaigns and Recommenders\n",
    "To avoid incurring unnecessary costs, you can delete the old campaigns and recommenders once you're happy with the changes.\n",
    "\n",
    "## Lab 3 Summary\n",
    "In this lab, you have re-created your Personalize resources so the recommenders include the image labels generated by Rekognition. In the next lab, we will set up OpenSearch to use the Neptune graph.\n",
    "\n",
    "### Continue to Lab 4\n",
    "Open [Lab 4](./Lab-4-Integrate-Neptune-with-OpenSearch.ipynb) to continue the workshop.\n"
   ],
   "metadata": {
    "collapsed": false
   }
  },
  {
   "cell_type": "markdown",
   "source": [],
   "metadata": {
    "collapsed": false
   }
  },
  {
   "cell_type": "markdown",
   "source": [],
   "metadata": {
    "collapsed": false
   }
  }
 ],
 "metadata": {
  "kernelspec": {
   "display_name": "Python 3",
   "language": "python",
   "name": "python3"
  },
  "language_info": {
   "codemirror_mode": {
    "name": "ipython",
    "version": 2
   },
   "file_extension": ".py",
   "mimetype": "text/x-python",
   "name": "python",
   "nbconvert_exporter": "python",
   "pygments_lexer": "ipython2",
   "version": "2.7.6"
  }
 },
 "nbformat": 4,
 "nbformat_minor": 0
}
