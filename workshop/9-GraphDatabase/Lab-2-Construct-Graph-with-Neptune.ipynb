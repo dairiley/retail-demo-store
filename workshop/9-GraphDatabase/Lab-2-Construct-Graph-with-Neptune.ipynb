{
 "cells": [
  {
   "cell_type": "markdown",
   "metadata": {
    "collapsed": true
   },
   "source": [
    "# Lab 2 - Constructing the Graph Database\n",
    "In this lab we will ingest the product metadata into Neptune and construct a graph from it.\n",
    "\n",
    "## What is a Graph Database?\n",
    "\n",
    "A graph database is a database that stores relationships with a graph structure. Data is represented by nodes, edges and properties rather than tables or documents. In graph databases, we are able to transverse relationships very quickly as relationships between nodes are persisted in the database, rather than being caluclated at query times.\n",
    "\n",
    "[Amazon Neptune](https://aws.amazon.com/neptune/) is a high-performance graph database engine optimized for storing billions of relationships and querying the graph with millisecond latency. The nature of Neptune makes it a great tool for recommendation applications, as recommendations can be made quickly based on existing relationships.\n",
    "\n",
    "## Setup\n",
    "Just as in the first lab, we have to prepare our environment by importing dependencies and creating clients.\n",
    "### Import dependencies\n",
    "The following libraries are needed for this lab"
   ]
  },
  {
   "cell_type": "code",
   "execution_count": null,
   "outputs": [],
   "source": [
    "import boto3\n",
    "import uuid\n",
    "import pandas as pd\n",
    "from gremlin_python.structure.graph import Graph\n",
    "from gremlin_python.process.traversal import T\n",
    "from gremlin_python.driver.driver_remote_connection import DriverRemoteConnection\n",
    "from gremlin_python.process.graph_traversal import __"
   ],
   "metadata": {
    "collapsed": false
   }
  },
  {
   "cell_type": "markdown",
   "source": [
    "### Create Clients\n",
    "Next we need to create the AWS service clients needed for this workshop.\n",
    "- **neptune**: This resource is used to create our Neptune DB cluster and endpoint."
   ],
   "metadata": {
    "collapsed": false
   }
  },
  {
   "cell_type": "code",
   "execution_count": null,
   "outputs": [],
   "source": [
    "neptune = boto3.client('neptune')"
   ],
   "metadata": {
    "collapsed": false
   }
  },
  {
   "cell_type": "markdown",
   "source": [
    "### Load variables saved in Lab 1\n",
    "At the end of Lab 1 we saved some variables that we'll need in this lab. The following cell with load those variables into this lab environment."
   ],
   "metadata": {
    "collapsed": false
   }
  },
  {
   "cell_type": "code",
   "execution_count": null,
   "outputs": [],
   "source": [
    "%store -r"
   ],
   "metadata": {
    "collapsed": false
   }
  },
  {
   "cell_type": "markdown",
   "source": [
    "## Create Neptune Cluster and Endpoint\n",
    "Currently, there is no Neptune cluster to store the relationships. We can create the Neptune DB cluster which will by default also create a reader and a writer cluster endpoint. Creation will take a few minutes."
   ],
   "metadata": {
    "collapsed": false
   }
  },
  {
   "cell_type": "code",
   "execution_count": null,
   "outputs": [],
   "source": [
    "neptune_cluster = neptune.create_db_cluster(\n",
    "    DBClusterIdentifier='retail-demo-store-products-cluster',\n",
    "    Engine='neptune')\n",
    "endpoint = neptune_cluster['DBCluster']['Endpoint']\n",
    "print('Neptune Endpoint:' + endpoint)"
   ],
   "metadata": {
    "collapsed": false
   }
  },
  {
   "cell_type": "markdown",
   "source": [
    "## Data Preparation\n",
    "Before we can start building the relationships between nodes and edges, we have to load the products data into a dataframe. This can be done by performing a scan on the DynamoDB table, and adding each data row to the dataframe."
   ],
   "metadata": {
    "collapsed": false
   }
  },
  {
   "cell_type": "code",
   "execution_count": 1,
   "outputs": [
    {
     "ename": "NameError",
     "evalue": "name 'ddb_table' is not defined",
     "output_type": "error",
     "traceback": [
      "\u001B[0;31m---------------------------------------------------------------------------\u001B[0m",
      "\u001B[0;31mNameError\u001B[0m                                 Traceback (most recent call last)",
      "Cell \u001B[0;32mIn[1], line 2\u001B[0m\n\u001B[1;32m      1\u001B[0m \u001B[38;5;66;03m# DynamoDB Scan step:\u001B[39;00m\n\u001B[0;32m----> 2\u001B[0m ddb_response \u001B[38;5;241m=\u001B[39m \u001B[43mddb_table\u001B[49m\u001B[38;5;241m.\u001B[39mscan()\n\u001B[1;32m      3\u001B[0m items \u001B[38;5;241m=\u001B[39m ddb_response[\u001B[38;5;124m'\u001B[39m\u001B[38;5;124mItems\u001B[39m\u001B[38;5;124m'\u001B[39m]\n\u001B[1;32m      5\u001B[0m \u001B[38;5;66;03m# Fetch data into DF\u001B[39;00m\n",
      "\u001B[0;31mNameError\u001B[0m: name 'ddb_table' is not defined"
     ]
    }
   ],
   "source": [
    "# DynamoDB Scan step:\n",
    "ddb_response = ddb_table.scan()\n",
    "items = ddb_response['Items']\n",
    "\n",
    "# Fetch data into DF\n",
    "pd_data = []\n",
    "for data_row in items:\n",
    "    pd_data.append(data_row)"
   ],
   "metadata": {
    "collapsed": false
   }
  },
  {
   "cell_type": "markdown",
   "source": [
    "We can drop columns from the data we are not interested in the relationships of to speed up processing."
   ],
   "metadata": {
    "collapsed": false
   }
  },
  {
   "cell_type": "code",
   "execution_count": null,
   "outputs": [],
   "source": [
    "cols_to_drop = ['sk', 'url', 'aliases']\n",
    "df_products = pd.DataFrame(pd_data)\n",
    "df_products.drop(cols_to_drop, inplace=True, axis=1)"
   ],
   "metadata": {
    "collapsed": false
   }
  },
  {
   "cell_type": "markdown",
   "source": [
    "## Improving Access Patterns\n",
    "To improve access patterns, we can create a dataframe for categories, which include a UUID for each one."
   ],
   "metadata": {
    "collapsed": false
   }
  },
  {
   "cell_type": "code",
   "execution_count": null,
   "outputs": [],
   "source": [
    "df_categories = df_products[['category']].drop_duplicates(subset=['category'])\n",
    "df_categories['category_id'] = [uuid.uuid4() for _ in range(len(df_categories.index))]"
   ],
   "metadata": {
    "collapsed": false
   }
  },
  {
   "cell_type": "markdown",
   "source": [
    "We do the same for product styles."
   ],
   "metadata": {
    "collapsed": false
   }
  },
  {
   "cell_type": "code",
   "execution_count": null,
   "outputs": [],
   "source": [
    "df_styles = df_products[['style']].drop_duplicates(subset=['style'])\n",
    "df_styles['style_id'] = [uuid.uuid4() for _ in range(len(df_styles.index))]"
   ],
   "metadata": {
    "collapsed": false
   }
  },
  {
   "cell_type": "markdown",
   "source": [
    "## Ingest into Neptune\n",
    "As Neptune is a graph database, we have to insert the data according to this structure. This involves initializing a graph and traversing to add each product item by item."
   ],
   "metadata": {
    "collapsed": false
   }
  },
  {
   "cell_type": "code",
   "execution_count": null,
   "outputs": [],
   "source": [
    "# Initialize Neptune connection with endpoint from created cluster\n",
    "graph = Graph()\n",
    "remote_conn = DriverRemoteConnection(\n",
    "    'wss://' + endpoint + ':8182/gremlin',\n",
    "    'g')\n",
    "g = graph.traversal().withRemote(remote_conn)\n",
    "\n",
    "# Insert all products\n",
    "for index, row in df_products.iterrows():\n",
    "    # Insert item by item.\n",
    "    vertex_insert = g.addV('product') \\\n",
    "        .property(T.id, row['id']) \\\n",
    "        .property('product_name', row['name']) \\\n",
    "        .property('current_stock', row['current_stock']) \\\n",
    "        .property('style', row['style']) \\\n",
    "        .property('gender_affinity', row['gender_affinity']) \\\n",
    "        .property('image', row['image']) \\\n",
    "        .property('category', row['category']) \\\n",
    "        .property('description', row['description']) \\\n",
    "        .property('price', row['price']) \\\n",
    "        .property('featured', row['featured']) \\\n",
    "        .next()\n",
    "\n",
    "# Need performance improvements and optimizations\n",
    "# Updating items, to add Labels array (Neptune does not support dict/maps in addV).\n",
    "    for prop_label in row['image_labels']:\n",
    "        if prop_label['confidence'] > 75:\n",
    "            update_results = g.V(vertex_insert).property('labels_confidence_gt_75',\n",
    "                                                         prop_label['name'].lower()).next()"
   ],
   "metadata": {
    "collapsed": false
   }
  },
  {
   "cell_type": "markdown",
   "source": [
    "We can then insert all the categories and styles created earlier as multi-label vertices to improve searchability."
   ],
   "metadata": {
    "collapsed": false
   }
  },
  {
   "cell_type": "code",
   "execution_count": null,
   "outputs": [],
   "source": [
    "# Insert all categories\n",
    "for index, row in df_categories.iterrows():\n",
    "    g.addV('category::{}'.format(row['category'])).property(T.id, str(row['category_id'])).property(\n",
    "        'name', row['category']).next()\n",
    "\n",
    "# Insert all styles\n",
    "for index, row in df_styles.iterrows():\n",
    "    g.addV('style::{}'.format(row['style'])).property(T.id, str(row['style_id'])).property(\n",
    "        'name', row['style']).next()"
   ],
   "metadata": {
    "collapsed": false
   }
  },
  {
   "cell_type": "markdown",
   "source": [
    "With all the insertions complete, the edges now have to be constructed to connect the graph vertices."
   ],
   "metadata": {
    "collapsed": false
   }
  },
  {
   "cell_type": "code",
   "execution_count": null,
   "outputs": [],
   "source": [
    "# Add Category and Style IDs\n",
    "df_with_category_ids = pd.merge(df_products, df_categories, on='category', how='inner')\n",
    "df_with_cat_and_style_ids = pd.merge(df_with_category_ids, df_styles, on='style', how='inner')\n",
    "\n",
    "# Create Edges for Categories -> Styles\n",
    "df_edges_category_style = df_with_cat_and_style_ids[['category_id', 'style_id']].drop_duplicates(\n",
    "    subset=['category_id', 'style_id'])\n",
    "# Add edges for Categories -> Styles:\n",
    "for index, row in df_edges_category_style.iterrows():\n",
    "    cat_to_style_edge_insert = g.V(str(row['category_id'])).addE('has').to(__.V(str(row['style_id']))).next()\n",
    "    print(cat_to_style_edge_insert)\n",
    "\n",
    "# Create Edges for Styles --> Products\n",
    "df_edges_styles_products = df_with_cat_and_style_ids[['style_id', 'id']].drop_duplicates(subset=['style_id', 'id'])\n",
    "# Add edges for Styles --> Products (ID is the original column of a product_id):\n",
    "for index, row in df_edges_styles_products.iterrows():\n",
    "    style_to_prod_edge_insert = g.V(str(row['style_id'])).addE('has').to(__.V(str(row['id']))).next()\n",
    "    print(style_to_prod_edge_insert)"
   ],
   "metadata": {
    "collapsed": false
   }
  },
  {
   "cell_type": "markdown",
   "source": [
    "### Cleanup\n",
    "With all the insertions complete and edges created, we close the connection to the graph database."
   ],
   "metadata": {
    "collapsed": false
   }
  },
  {
   "cell_type": "code",
   "execution_count": 1,
   "outputs": [
    {
     "ename": "NameError",
     "evalue": "name 'remote_conn' is not defined",
     "output_type": "error",
     "traceback": [
      "\u001B[0;31m---------------------------------------------------------------------------\u001B[0m",
      "\u001B[0;31mNameError\u001B[0m                                 Traceback (most recent call last)",
      "Cell \u001B[0;32mIn[1], line 1\u001B[0m\n\u001B[0;32m----> 1\u001B[0m \u001B[43mremote_conn\u001B[49m\u001B[38;5;241m.\u001B[39mclose()\n",
      "\u001B[0;31mNameError\u001B[0m: name 'remote_conn' is not defined"
     ]
    }
   ],
   "source": [
    "  remote_conn.close()"
   ],
   "metadata": {
    "collapsed": false
   }
  },
  {
   "cell_type": "markdown",
   "source": [
    "## Lab 2 Summary\n",
    "In this lab we created a Neptune cluster and wrote all our products data to our instance. We then constructed graph vertices between categories and styles which showcase the relationship between products.\n",
    "\n",
    "In the next lab, we will retrain Personalize with the image label data.\n",
    "\n",
    "### Continue to Lab 3\n",
    "Open [Lab 3](./Lab-3-Add-Rekognition-Labels-to-Personalize.ipynb) to continue the workshop."
   ],
   "metadata": {
    "collapsed": false
   }
  }
 ],
 "metadata": {
  "kernelspec": {
   "display_name": "Python 3",
   "language": "python",
   "name": "python3"
  },
  "language_info": {
   "codemirror_mode": {
    "name": "ipython",
    "version": 2
   },
   "file_extension": ".py",
   "mimetype": "text/x-python",
   "name": "python",
   "nbconvert_exporter": "python",
   "pygments_lexer": "ipython2",
   "version": "2.7.6"
  }
 },
 "nbformat": 4,
 "nbformat_minor": 0
}
