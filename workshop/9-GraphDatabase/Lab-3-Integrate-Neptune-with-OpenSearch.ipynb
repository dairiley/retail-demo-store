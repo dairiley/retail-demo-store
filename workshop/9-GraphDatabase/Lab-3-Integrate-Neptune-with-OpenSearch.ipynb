{
 "cells": [
  {
   "cell_type": "markdown",
   "metadata": {},
   "source": [
    "# Lab 3 - Integrate Neptune with OpenSearch\n",
    "In this lab we will configure the existing OpenSearch index to integrate with the Neptune cluster created in Lab 2. This lab expects that you have already created Workshop 0, or have enabled OpenSearch index by default on deployment.\n",
    "\n",
    "To integrate Neptune with OpenSearch, you can use an existing OpenSearch Service cluster that has been populated according the Neptune data model for OpenSearch data, or you can create an OpenSearch service domain linked with Neptune using an AWS CLoudFormation stack. In this lab, we will be using an existing cluster.\n",
    "\n",
    "## Neptune data model for OpenSearch data\n",
    "Documents in OpenSearch correspond to an entity and store the relevant information for the entity. We compare this to Gremlin, where vertices and edges are considered entities. This means that the OpenSearch documents need to have the information about our vertices and edges in the form of labels and properties.\n",
    "\n",
    "When we set up Neptune in Lab 2, we included labels and properties so our data would fit with this format."
   ]
  },
  {
   "cell_type": "markdown",
   "source": [
    "### Import dependencies\n",
    "The following libraries are needed for this lab."
   ],
   "metadata": {
    "collapsed": false
   }
  },
  {
   "cell_type": "code",
   "execution_count": null,
   "outputs": [],
   "source": [
    "import boto3\n",
    "from gremlin_python.structure.graph import Graph\n",
    "from gremlin_python.process.graph_traversal import __\n",
    "from gremlin_python.driver.driver_remote_connection import DriverRemoteConnection\n",
    "from gremlin_python.driver.aiohttp.transport import AiohttpTransport\n",
    "from gremlin_python.process.traversal import *"
   ],
   "metadata": {
    "collapsed": false
   }
  },
  {
   "cell_type": "markdown",
   "metadata": {},
   "source": [
    "### Create Clients"
   ]
  },
  {
   "cell_type": "code",
   "execution_count": null,
   "outputs": [],
   "source": [
    "neptune = boto3.client('neptune')\n",
    "ec2 = boto3.client('ec2')\n",
    "batch = boto3.client('batch')\n",
    "ssm = boto3.client('ssm')"
   ],
   "metadata": {
    "collapsed": false
   }
  },
  {
   "cell_type": "markdown",
   "source": [
    "### Load variables saved in Lab 2\n",
    "At the end of Lab 2 we saved some variables that we'll need in this lab. The following cell with load those variables into this lab environment."
   ],
   "metadata": {
    "collapsed": false
   }
  },
  {
   "cell_type": "code",
   "execution_count": null,
   "outputs": [],
   "source": [
    "%store -r"
   ],
   "metadata": {
    "collapsed": false
   }
  },
  {
   "cell_type": "markdown",
   "metadata": {},
   "source": [
    "### Enable Neptune streams\n",
    "In order to add the data in Neptune to our OpenSearch index, Neptune streams need to be enabled.\n",
    "\n",
    "CLuster parameters such as `neptune_streams` are part of a parameter group. We cannot change the default parameter group, so we first need to create a new one and then update our cluster to use the new parameter group with streams enabled over the default one."
   ]
  },
  {
   "cell_type": "code",
   "execution_count": null,
   "outputs": [],
   "source": [
    "# Create the new parameter group. All parameters will be created by default\n",
    "parameter_group_name = 'retail-demo-store-neptune-opensearch-parameter-group'\n",
    "parameter_group_response = neptune.create_db_cluster_parameter_group(\n",
    "    DBClusterParameterGroupName=parameter_group_name,\n",
    "    DBParameterGroupFamily='neptune1.2',\n",
    "    Description='Parameter group for Neptune OpenSearch integration'\n",
    ")\n",
    "\n",
    "# Enable streams\n",
    "neptune.modify_db_cluster_parameter_group(\n",
    "    DBClusterParameterGroupName=parameter_group_name,\n",
    "    Parameters=[\n",
    "        {\n",
    "            'ParameterName': 'neptune_streams',\n",
    "            'ParameterValue': '1',\n",
    "            'ApplyMethod': 'pending-reboot'\n",
    "        },\n",
    "    ]\n",
    ")\n",
    "\n",
    "# Use the newly created parameter group with our existing cluster\n",
    "neptune.modify_db_cluster(\n",
    "    DBClusterIdentifier=db_cluster_identifier,\n",
    "    ApplyImmediately=True,\n",
    "    DBClusterParameterGroupName=parameter_group_response['DBClusterParameterGroup']['DBClusterParameterGroupName'],\n",
    ")"
   ],
   "metadata": {
    "collapsed": false
   }
  },
  {
   "cell_type": "markdown",
   "metadata": {},
   "source": [
    "## Amazon Neptune-to-OpenSearch replication setup\n",
    "Amazon Neptune supports full-text search in Gremlin and SPARQL queries using Amazon OpenSearch Service (OpenSearch Service). You can use an AWS CloudFormation stack to link an OpenSearch Service domain to Neptune.\n",
    "\n",
    "We will be following the instructions in [this repository](https://github.com/awslabs/amazon-neptune-tools/tree/master/export-neptune-to-elasticsearch) to index existing data in an Amazon Neptune database in ElasticSearch to enable Neptune's full-text search integration.\n",
    "\n",
    "### Get Parameters\n",
    "The existing OpenSearch endpoint is required as a stack parameter. We can use the `ssm` boto3 client to retrieve it."
   ]
  },
  {
   "cell_type": "code",
   "execution_count": null,
   "outputs": [],
   "source": [
    "opensearch_domain_endpoint = None\n",
    "\n",
    "domains_response = opensearch_service.list_domain_names()\n",
    "\n",
    "for domain_name in domains_response['DomainNames']:\n",
    "    describe_response = opensearch_service.describe_domain(\n",
    "        DomainName=domain_name['DomainName']\n",
    "    )\n",
    "\n",
    "    tags_response = opensearch_service.list_tags(ARN=describe_response['DomainStatus']['ARN'])\n",
    "\n",
    "    domain_match = False\n",
    "    for tag in tags_response['TagList']:\n",
    "        if tag['Key'] == 'Name' and tag['Value'] == 'retaildemostore':\n",
    "            domain_match = True\n",
    "            break\n",
    "\n",
    "    if domain_match:\n",
    "        opensearch_domain_endpoint = describe_response['DomainStatus']['Endpoints']['vpc']\n",
    "        break\n",
    "\n",
    "print('OpenSearch domain endpoint: ' + str(opensearch_domain_endpoint))\n",
    "\n",
    "assert opensearch_domain_endpoint, 'OpenSearch domain endpoint could not be determined. Ensure Amazon OpenSearch domain has been successfully created and has \"retaildemostore\" tag before continuing.'\n",
    "\n",
    "opensearch_sg = ssm.get_parameter(\n",
    "    Name='retaildemostore-stack-opensearch-domain-sg'\n",
    ")\n",
    "opensearch_sg = opensearch_sg['Parameter']['Value']\n",
    "print(opensearch_sg)"
   ],
   "metadata": {
    "collapsed": false
   }
  },
  {
   "cell_type": "markdown",
   "source": [
    "### Create keypair for stack creation\n",
    "A keypair is required as a parameter for the stack."
   ],
   "metadata": {
    "collapsed": false
   }
  },
  {
   "cell_type": "code",
   "execution_count": null,
   "outputs": [],
   "source": [
    "keypair = ec2.create_key_pair(KeyName='retail-demo-store-neptune-opensearch')\n",
    "keypair_name = keypair['KeyName']"
   ],
   "metadata": {
    "collapsed": false
   }
  },
  {
   "cell_type": "markdown",
   "source": [
    "### Launch Stack\n",
    "#### Stack parameters\n",
    "Replace the corresponding stack parameters with the values given when you run the below code cell."
   ],
   "metadata": {
    "collapsed": false
   }
  },
  {
   "cell_type": "code",
   "execution_count": null,
   "outputs": [],
   "source": [
    "print(f\"\"\"\n",
    "KeyPairName: {keypair_name}\n",
    "VPC: {vpc_id}\n",
    "Subnet1: {subnet}\n",
    "NeptuneEndpoint: {neptune_endpoint}\n",
    "NeptuneEngine: gremlin\n",
    "NeptuneClientSecurityGroup: {security_group_id}\n",
    "ElasticSearchEndpoint: {opensearch_domain_endpoint}\n",
    "NumberOfShards: 1\n",
    "NumberOfReplica: 0\n",
    "ElasticSearchClientSecurityGroup: {opensearch_sg}\n",
    "\"\"\")"
   ],
   "metadata": {
    "collapsed": false
   }
  },
  {
   "cell_type": "markdown",
   "source": [
    "\n",
    "#### The stack\n",
    "Launch the stack in the same region you deployed the Retail Demo Store in. Creation will take approximately 3 minutes.\n",
    "\n",
    "| Region | Stack |\n",
    "| ---- | ---- |\n",
    "|US East (N. Virginia) |  [<img src=\"https://s3.amazonaws.com/cloudformation-examples/cloudformation-launch-stack.png\">](https://us-east-1.console.aws.amazon.com/cloudformation/home?region=us-east-1#/stacks/create/review?templateURL=https://s3.amazonaws.com/aws-neptune-customer-samples/neptune-sagemaker/cloudformation-templates/export-neptune-to-elasticsearch/export-neptune-to-elasticsearch.json&stackName=neptune-index) |\n",
    "|US West (Oregon) |  [<img src=\"https://s3.amazonaws.com/cloudformation-examples/cloudformation-launch-stack.png\">](https://us-west-2.console.aws.amazon.com/cloudformation/home?region=us-west-2#/stacks/create/review?templateURL=https://s3.amazonaws.com/aws-neptune-customer-samples/neptune-sagemaker/cloudformation-templates/export-neptune-to-elasticsearch/export-neptune-to-elasticsearch.json&stackName=neptune-index) |\n",
    "|Europe (Ireland) |  [<img src=\"https://s3.amazonaws.com/cloudformation-examples/cloudformation-launch-stack.png\">](https://eu-west-1.console.aws.amazon.com/cloudformation/home?region=eu-west-1#/stacks/create/review?templateURL=https://s3.amazonaws.com/aws-neptune-customer-samples/neptune-sagemaker/cloudformation-templates/export-neptune-to-elasticsearch/export-neptune-to-elasticsearch.json&stackName=neptune-index) |\n",
    "|Asia Pacific (Tokyo) | [<img src=\"https://s3.amazonaws.com/cloudformation-examples/cloudformation-launch-stack.png\">](https://ap-northeast-1.console.aws.amazon.com/cloudformation/home?region=ap-northeast-1#/stacks/create/review?templateURL=https://s3.amazonaws.com/aws-neptune-customer-samples/neptune-sagemaker/cloudformation-templates/export-neptune-to-elasticsearch/export-neptune-to-elasticsearch.json&stackName=neptune-index) |\n",
    "|Asia Pacific (Sydney) | [<img src=\"https://s3.amazonaws.com/cloudformation-examples/cloudformation-launch-stack.png\">](https://ap-southeast-2.console.aws.amazon.com/cloudformation/home?region=ap-southeast-2#/stacks/create/review?templateURL=https://s3.amazonaws.com/aws-neptune-customer-samples/neptune-sagemaker/cloudformation-templates/export-neptune-to-elasticsearch/export-neptune-to-elasticsearch.json&stackName=neptune-index) |\n",
    "\n",
    "\n",
    "### Create batch job to update index\n",
    "Once the stack has successfully created we can invoke the Lambda function that starts the batch job. You can find and copy the command as the `StartExportCommand` property in the stack output.\n",
    "\n",
    "The command will look like `aws lambda invoke --function-name arn:aws:lambda:eu-west-1:{ACCOUNT_ID}}:function:export-neptune-to-kinesis-12345678 --region {REGION}} /dev/stdout`\n"
   ],
   "metadata": {
    "collapsed": false
   }
  },
  {
   "cell_type": "code",
   "execution_count": null,
   "outputs": [],
   "source": [
    "# Insert command below\n",
    "!"
   ],
   "metadata": {
    "collapsed": false
   }
  },
  {
   "cell_type": "markdown",
   "source": [
    "#### Wait for batch job to complete\n",
    "Insert the given job id in the output to observe job status. When status is `SUCEEDED`, all the data stored in Neptune has been indexed in our ElasticSearch cluster."
   ],
   "metadata": {
    "collapsed": false
   }
  },
  {
   "cell_type": "code",
   "execution_count": null,
   "outputs": [],
   "source": [
    "import time\n",
    "\n",
    "status = None\n",
    "max_time = time.time() + 15*60\n",
    "while time.time() < max_time:\n",
    "    response = batch.describe_jobs(\n",
    "        jobs=[\n",
    "            # Inset job id here as a string,\n",
    "        ]\n",
    "    )\n",
    "    status = response['jobs'][0]['status']\n",
    "\n",
    "    print(\"Status: {}\".format(status))\n",
    "\n",
    "    if status == 'SUCCEEDED':\n",
    "        break\n",
    "\n",
    "    time.sleep(30)"
   ],
   "metadata": {
    "collapsed": false
   }
  },
  {
   "cell_type": "markdown",
   "source": [
    "## Evaluate Search\n",
    "Now that the Neptune data has been indexed, you can test the search experience with some queries. To see how the results differ from the existing index, compare the results here with those in the Retail Demo Store Web UI. If you haven't already opened a browser window/tab to the Retail Demo Store Web UI, navigate to the CloudFormation console in this AWS account and check the Outputs section of the stack used to launch the Retail Demo Store. Make sure you're checking the base/root stack and not the nested stacks that were created. In the Outputs section look for the output named `WebURL`.\n",
    "\n",
    "### Test endpoint\n",
    "Insert the string generated by the code cell below into the curl command to validate that the search endpoint is live."
   ],
   "metadata": {
    "collapsed": false
   }
  },
  {
   "cell_type": "code",
   "execution_count": null,
   "outputs": [],
   "source": [
    "'https://'+opensearch_domain_endpoint+'/amazon_neptune'"
   ],
   "metadata": {
    "collapsed": false
   }
  },
  {
   "cell_type": "code",
   "execution_count": null,
   "outputs": [],
   "source": [
    "! curl"
   ],
   "metadata": {
    "collapsed": false
   }
  },
  {
   "cell_type": "markdown",
   "source": [
    "### Gremlin Queries\n",
    "We will run some Gremlin queries with the new search endpoint.\n",
    "\n",
    "#### Setup connection"
   ],
   "metadata": {
    "collapsed": false
   }
  },
  {
   "cell_type": "code",
   "execution_count": null,
   "outputs": [],
   "source": [
    "graph = Graph()\n",
    "\n",
    "port = 8182\n",
    "endpoint = neptune_endpoint\n",
    "endpoint = f'wss://{endpoint}:{port}/gremlin'\n",
    "\n",
    "graph=Graph()\n",
    "\n",
    "connection = DriverRemoteConnection(endpoint,'g',\n",
    "                 transport_factory=lambda:AiohttpTransport(call_from_event_loop=True))\n",
    "g = graph.traversal().withRemote(connection)\n",
    "endpoint"
   ],
   "metadata": {
    "collapsed": false
   }
  },
  {
   "cell_type": "markdown",
   "source": [
    "#### Queries\n",
    "In the code cell below, we count the number of inserted products as we did when they were inserted. The difference here being that we are using the full-text search endpoint."
   ],
   "metadata": {
    "collapsed": false
   }
  },
  {
   "cell_type": "code",
   "execution_count": null,
   "outputs": [],
   "source": [
    "g.withSideEffect(\"Neptune#fts.endpoint\", \"https://vpc-opensearchdomai-vl14xxcejere-pilc2aofyeznmglu5yqt2xsk4a.eu-west-1.es.amazonaws.com\")\\\n",
    "    .V().hasLabel('product').count().next()"
   ],
   "metadata": {
    "collapsed": false
   }
  },
  {
   "cell_type": "markdown",
   "source": [
    "The below query returns products with the style of backpack."
   ],
   "metadata": {
    "collapsed": false
   }
  },
  {
   "cell_type": "code",
   "execution_count": null,
   "outputs": [],
   "source": [
    "g.withSideEffect(\"Neptune#fts.endpoint\", \"https://vpc-opensearchdomai-vl14xxcejere-pilc2aofyeznmglu5yqt2xsk4a.eu-west-1.es.amazonaws.com\")\\\n",
    "    .withSideEffect(\"Neptune#fts.queryType\", \"query_string\")\\\n",
    "    .V().has(\"*\", \"Neptune#fts predicates.style.value:backpack\").toList()"
   ],
   "metadata": {
    "collapsed": false
   }
  },
  {
   "cell_type": "markdown",
   "source": [
    "The below query gets products name Screwdriver."
   ],
   "metadata": {
    "collapsed": false
   }
  },
  {
   "cell_type": "code",
   "execution_count": null,
   "outputs": [],
   "source": [
    "g.withSideEffect(\"Neptune#fts.endpoint\", \"https://vpc-opensearchdomai-vl14xxcejere-pilc2aofyeznmglu5yqt2xsk4a.eu-west-1.es.amazonaws.com\")\\\n",
    "    .withSideEffect(\"Neptune#fts.queryType\", \"query_string\")\\\n",
    "    .V().has(\"*\", \"Neptune#fts predicates.product_name.value:Screwdriver\").toList()"
   ],
   "metadata": {
    "collapsed": false
   }
  },
  {
   "cell_type": "markdown",
   "source": [
    "Compare the output of the queries above with the search results generated by the products index on the Web UI. Also try changing some of the queries to see how results change. Refer to [this documentation](https://docs.aws.amazon.com/neptune/latest/userguide/full-text-search-gremlin.html) for more examples."
   ],
   "metadata": {
    "collapsed": false
   }
  },
  {
   "cell_type": "markdown",
   "source": [
    "\n",
    "## Workshop Complete\n",
    "Congratulations! You have now completed the Retail Demo Store Neptune Workshop.\n",
    "\n",
    "### Cleanup\n",
    "If you launched the Retail Demo Store in your personal AWS account **AND** you're done with all workshops, you can follow the [Neptune workshop cleanup](./Lab-4-Cleanup-Neptune-Resources.ipynb) to delete all of the resources created by this workshop.\n",
    "\n",
    "**IMPORTANT: since the Neptune resources were created by this notebook and not CloudFormation, deleting the CloudFormation stack for the Retail Demo Store will not remove the Neptune resources. You MUST run the [Neptune workshop cleanup](./Lab-4-Cleanup-Neptune-Resources.ipynb) notebook or manually clean up these resources.**\n",
    "\n",
    "If you are participating in an AWS managed event such as a workshop and using an AWS provided temporary account, you can skip the cleanup workshop unless otherwise instructed.\n",
    "\n",
    "#### Store variables for cleanup"
   ],
   "metadata": {
    "collapsed": false
   }
  },
  {
   "cell_type": "code",
   "execution_count": null,
   "outputs": [],
   "source": [
    "%store parameter_group_name\n",
    "%store keypair_name\n",
    "%store opensearch_domain_endpoint"
   ],
   "metadata": {
    "collapsed": false
   }
  }
 ],
 "metadata": {
  "kernelspec": {
   "display_name": "conda_python3",
   "language": "python",
   "name": "conda_python3"
  },
  "language_info": {
   "codemirror_mode": {
    "name": "ipython",
    "version": 3
   },
   "file_extension": ".py",
   "mimetype": "text/x-python",
   "name": "python",
   "nbconvert_exporter": "python",
   "pygments_lexer": "ipython3",
   "version": "3.10.8"
  }
 },
 "nbformat": 4,
 "nbformat_minor": 1
}
