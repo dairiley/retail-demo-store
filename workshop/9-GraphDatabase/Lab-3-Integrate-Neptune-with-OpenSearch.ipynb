{
 "cells": [
  {
   "cell_type": "markdown",
   "metadata": {},
   "source": [
    "# Lab 4- Integrate Neptune with OpenSearch\n",
    "In this lab we will configure the existing OpenSearch index to integrate with the Neptune cluster created in Lab 2. This lab expects that you have already created Workshop 0, or have enabled OpenSearch index by default on deployment.\n",
    "\n",
    "To integrate Neptune with OpenSearch, you can use an existing OpenSearch Service cluster that has been populated according the Neptune data model for OpenSearch data, or you can create an OpenSearch service domain linked with Neptune using an AWS CLoudFormation stack. In this lab, we will be using an existing cluster.\n",
    "\n",
    "## Neptune data model for OpenSearch data\n",
    "Documents in OpenSearch correspond to an entity and store the relevant information for the entity. We compare this to Gremlin, where vertices and edges are considered entities. This means that the OpenSearch documents need to have the information about our vertices and edges in the form of labels and properties.\n",
    "\n",
    "When we set up Neptune in Lab 2, we included labels and properties so our data would fit with this format.\n",
    "\n",
    "### Import dependencies\n",
    "The following libraries are needed for this lab."
   ]
  },
  {
   "cell_type": "code",
   "execution_count": null,
   "outputs": [],
   "source": [
    "import boto3"
   ],
   "metadata": {
    "collapsed": false
   }
  },
  {
   "cell_type": "markdown",
   "metadata": {},
   "source": [
    "### Create Clients"
   ]
  },
  {
   "cell_type": "code",
   "execution_count": null,
   "outputs": [],
   "source": [
    "neptune = boto3.client('neptune')\n",
    "ec2 = boto3.client('ec2')\n",
    "batch = boto3.client('batch')"
   ],
   "metadata": {
    "collapsed": false
   }
  },
  {
   "cell_type": "markdown",
   "source": [
    "### Load variables saved in Lab 2\n",
    "At the end of Lab 2 we saved some variables that we'll need in this lab. The following cell with load those variables into this lab environment."
   ],
   "metadata": {
    "collapsed": false
   }
  },
  {
   "cell_type": "code",
   "execution_count": null,
   "outputs": [],
   "source": [
    "%store -r"
   ],
   "metadata": {
    "collapsed": false
   }
  },
  {
   "cell_type": "markdown",
   "metadata": {},
   "source": [
    "### Enable Neptune streams\n",
    "In order to add the data in Neptune to our OpenSearch index, Neptune streams need to be enabled.\n",
    "\n",
    "CLuster parameters such as `neptune_streams` are part of a parameter group. We cannot change the default parameter group, so we first need to create a new one and then update our cluster to use the new parameter group with streams enabled over the default one."
   ]
  },
  {
   "cell_type": "code",
   "execution_count": null,
   "outputs": [],
   "source": [
    "# Create the new parameter group. All parameters will be created by default\n",
    "parameter_group_response = neptune.create_db_cluster_parameter_group(\n",
    "    DBClusterParameterGroupName='retail-demo-store-neptune-opensearch-parameter-group',\n",
    "    DBParameterGroupFamily='neptune1.2',\n",
    "    Description='Parameter group for Neptune OpenSearch integration'\n",
    ")\n",
    "\n",
    "# Enable streams\n",
    "neptune.modify_db_cluster_parameter_group(\n",
    "    DBClusterParameterGroupName=parameter_group_response['DBClusterParameterGroup']['DBClusterParameterGroupName'],\n",
    "    Parameters=[\n",
    "        {\n",
    "            'ParameterName': 'neptune_streams',\n",
    "            'ParameterValue': '1',\n",
    "            'ApplyMethod': 'pending-reboot'\n",
    "        },\n",
    "    ]\n",
    ")\n",
    "\n",
    "# Use the newly created parameter group with our existing cluster\n",
    "neptune.modify_db_cluster(\n",
    "    DBClusterIdentifier=db_cluster_identifier,\n",
    "    ApplyImmediately=True,\n",
    "    DBClusterParameterGroupName=parameter_group_response['DBClusterParameterGroup']['DBClusterParameterGroupName'],\n",
    ")"
   ],
   "metadata": {
    "collapsed": false
   }
  },
  {
   "cell_type": "markdown",
   "metadata": {},
   "source": [
    "## Amazon Neptune-to-OpenSearch replication setup\n",
    "Amazon Neptune supports full-text search in Gremlin and SPARQL queries using Amazon OpenSearch Service (OpenSearch Service). You can use an AWS CloudFormation stack to link an OpenSearch Service domain to Neptune.\n",
    "\n",
    "We will be following the instructions in [this repository](https://github.com/awslabs/amazon-neptune-tools/tree/master/export-neptune-to-elasticsearch) to index existing data in an Amazon Neptune database in ElasticSearch before enabling Neptune's full-text search integration.\n",
    "\n",
    "### Create keypair for stack creation\n",
    "A keypair is required as a parameter for the stack."
   ]
  },
  {
   "cell_type": "code",
   "execution_count": null,
   "outputs": [],
   "source": [
    "keypair = ec2.create_key_pair(KeyName='retail-demo-store-neptune-opensearch')"
   ],
   "metadata": {
    "collapsed": false
   }
  },
  {
   "cell_type": "markdown",
   "source": [
    "### Launch Stack\n",
    "#### Stack parameters"
   ],
   "metadata": {
    "collapsed": false
   }
  },
  {
   "cell_type": "code",
   "execution_count": null,
   "outputs": [],
   "source": [
    "keypair['KeyName']"
   ],
   "metadata": {
    "collapsed": false
   }
  },
  {
   "cell_type": "markdown",
   "source": [
    "\n",
    "#### The stack\n",
    "Launch the stack in the same region you deployed the Retail Demo Store in.\n",
    "\n",
    "| Region | Stack |\n",
    "| ---- | ---- |\n",
    "|US East (N. Virginia) |  [<img src=\"https://s3.amazonaws.com/cloudformation-examples/cloudformation-launch-stack.png\">](https://us-east-1.console.aws.amazon.com/cloudformation/home?region=us-east-1#/stacks/create/review?templateURL=https://s3.amazonaws.com/aws-neptune-customer-samples/neptune-sagemaker/cloudformation-templates/export-neptune-to-elasticsearch/export-neptune-to-elasticsearch.json&stackName=neptune-index) |\n",
    "|US West (Oregon) |  [<img src=\"https://s3.amazonaws.com/cloudformation-examples/cloudformation-launch-stack.png\">](https://us-west-2.console.aws.amazon.com/cloudformation/home?region=us-west-2#/stacks/create/review?templateURL=https://s3.amazonaws.com/aws-neptune-customer-samples/neptune-sagemaker/cloudformation-templates/export-neptune-to-elasticsearch/export-neptune-to-elasticsearch.json&stackName=neptune-index) |\n",
    "|Europe (Ireland) |  [<img src=\"https://s3.amazonaws.com/cloudformation-examples/cloudformation-launch-stack.png\">](https://eu-west-1.console.aws.amazon.com/cloudformation/home?region=eu-west-1#/stacks/create/review?templateURL=https://s3.amazonaws.com/aws-neptune-customer-samples/neptune-sagemaker/cloudformation-templates/export-neptune-to-elasticsearch/export-neptune-to-elasticsearch.json&stackName=neptune-index) |\n",
    "|Asia Pacific (Tokyo) | [<img src=\"https://s3.amazonaws.com/cloudformation-examples/cloudformation-launch-stack.png\">](https://ap-northeast-1.console.aws.amazon.com/cloudformation/home?region=ap-northeast-1#/stacks/create/review?templateURL=https://s3.amazonaws.com/aws-neptune-customer-samples/neptune-sagemaker/cloudformation-templates/export-neptune-to-elasticsearch/export-neptune-to-elasticsearch.json&stackName=neptune-index) |\n",
    "|Asia Pacific (Sydney) | [<img src=\"https://s3.amazonaws.com/cloudformation-examples/cloudformation-launch-stack.png\">](https://ap-southeast-2.console.aws.amazon.com/cloudformation/home?region=ap-southeast-2#/stacks/create/review?templateURL=https://s3.amazonaws.com/aws-neptune-customer-samples/neptune-sagemaker/cloudformation-templates/export-neptune-to-elasticsearch/export-neptune-to-elasticsearch.json&stackName=neptune-index) |\n",
    "\n",
    "\n",
    "### Create batch job to update index\n",
    "Once the stack has successfully created we can invoke the Lambda function that starts the batch job. You can find and copy the command as the `Test` property in the stack output\n"
   ],
   "metadata": {
    "collapsed": false
   }
  },
  {
   "cell_type": "code",
   "execution_count": null,
   "outputs": [],
   "source": [
    "# Insert command below\n",
    "!"
   ],
   "metadata": {
    "collapsed": false
   }
  },
  {
   "cell_type": "markdown",
   "source": [
    "#### Wait for batch job to complete\n",
    "Insert the given job id in the output to observe job status."
   ],
   "metadata": {
    "collapsed": false
   }
  },
  {
   "cell_type": "code",
   "execution_count": null,
   "outputs": [],
   "source": [
    "import time\n",
    "\n",
    "status = None\n",
    "max_time = time.time() + 15*60\n",
    "while time.time() < max_time:\n",
    "    response = batch.describe_jobs(\n",
    "        jobs=[\n",
    "            # Inset job id here,\n",
    "        ]\n",
    "    )\n",
    "    status = response['jobs'][0]['status']\n",
    "\n",
    "    print(\"Status: {}\".format(status))\n",
    "\n",
    "    if status == 'SUCCEEDED':\n",
    "        break\n",
    "\n",
    "    time.sleep(30)"
   ],
   "metadata": {
    "collapsed": false
   }
  },
  {
   "cell_type": "markdown",
   "source": [
    "## Lab 3 Summary\n",
    "In this lab we added the data stored in Neptune to our OpenSearch index."
   ],
   "metadata": {
    "collapsed": false
   }
  }
 ],
 "metadata": {
  "kernelspec": {
   "display_name": "conda_python3",
   "language": "python",
   "name": "conda_python3"
  },
  "language_info": {
   "codemirror_mode": {
    "name": "ipython",
    "version": 3
   },
   "file_extension": ".py",
   "mimetype": "text/x-python",
   "name": "python",
   "nbconvert_exporter": "python",
   "pygments_lexer": "ipython3",
   "version": "3.10.8"
  }
 },
 "nbformat": 4,
 "nbformat_minor": 1
}
