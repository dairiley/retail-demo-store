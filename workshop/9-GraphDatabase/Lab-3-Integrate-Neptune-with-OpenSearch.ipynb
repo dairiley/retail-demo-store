{
 "cells": [
  {
   "cell_type": "markdown",
   "metadata": {},
   "source": [
    "# Lab 4- Integrate Neptune with OpenSearch\n",
    "In this lab we will configure the existing OpenSearch index to integrate with the Neptune cluster created in Lab 2. This lab expects that you have already created Workshop 0, or have enabled OpenSearch index by default on deployment.\n",
    "\n",
    "To integrate Neptune with OpenSearch, you can use an existing OpenSearch Service cluster that has been populated according the Neptune data model for OpenSearch data, or you can create an OpenSearch service domain linked with Neptune using an AWS CLoudFormation stack. In this lab, we will be using an existing cluster.\n",
    "\n",
    "## Neptune data model for OpenSearch data\n",
    "Documents in OpenSearch correspond to an entity and store the relevant information for the entity. We compare this to Gremlin, where vertices and edges are considered entities. This means that the OpenSearch documents need to have the information about our vertices and edges in the form of labels and properties.\n",
    "\n",
    "When we set up Neptune in Lab 2, we included labels and properties so our data would fit with this format.\n",
    "\n",
    "### Import dependencies\n",
    "The following libraries are needed for this lab."
   ]
  },
  {
   "cell_type": "code",
   "execution_count": 1,
   "metadata": {},
   "outputs": [],
   "source": [
    "import boto3"
   ]
  },
  {
   "cell_type": "markdown",
   "metadata": {},
   "source": [
    "### Create Clients"
   ]
  },
  {
   "cell_type": "code",
   "execution_count": 2,
   "metadata": {},
   "outputs": [],
   "source": [
    "neptune = boto3.client('neptune')\n",
    "ec2 = boto3.client('ec2')\n",
    "batch = boto3.client('batch')"
   ]
  },
  {
   "cell_type": "markdown",
   "source": [
    "### Load variables saved in Lab 2\n",
    "At the end of Lab 2 we saved some variables that we'll need in this lab. The following cell with load those variables into this lab environment."
   ],
   "metadata": {
    "collapsed": false
   }
  },
  {
   "cell_type": "code",
   "execution_count": null,
   "outputs": [],
   "source": [
    "%store -r"
   ],
   "metadata": {
    "collapsed": false
   }
  },
  {
   "cell_type": "markdown",
   "metadata": {},
   "source": [
    "### Enable Neptune streams\n",
    "In order to add the data in Neptune to our OpenSearch index, Neptune streams need to be enabled.\n",
    "\n",
    "CLuster parameters such as `neptune_streams` are part of a parameter group. We cannot change the default parameter group, so we first need to create a new one and then update our cluster to use the new parameter group with streams enabled over the default one."
   ]
  },
  {
   "cell_type": "code",
   "execution_count": 4,
   "metadata": {},
   "outputs": [
    {
     "data": {
      "text/plain": [
       "{'DBClusterParameterGroup': {'DBClusterParameterGroupName': 'retail-demo-store-neptune-opensearch-parameter-group',\n",
       "  'DBParameterGroupFamily': 'neptune1.2',\n",
       "  'Description': 'Parameter group for Neptune OpenSearch integration',\n",
       "  'DBClusterParameterGroupArn': 'arn:aws:rds:eu-west-1:827561349713:cluster-pg:retail-demo-store-neptune-opensearch-parameter-group'},\n",
       " 'ResponseMetadata': {'RequestId': 'f9ad0048-3104-46b8-bd28-0d58ac801e0b',\n",
       "  'HTTPStatusCode': 200,\n",
       "  'HTTPHeaders': {'x-amzn-requestid': 'f9ad0048-3104-46b8-bd28-0d58ac801e0b',\n",
       "   'strict-transport-security': 'max-age=31536000',\n",
       "   'content-type': 'text/xml',\n",
       "   'content-length': '809',\n",
       "   'date': 'Thu, 11 May 2023 15:19:08 GMT'},\n",
       "  'RetryAttempts': 0}}"
      ]
     },
     "execution_count": 4,
     "metadata": {},
     "output_type": "execute_result"
    }
   ],
   "source": [
    "# Create the new parameter group. All parameters will be created by default\n",
    "parameter_group_response = neptune.create_db_cluster_parameter_group(\n",
    "    DBClusterParameterGroupName='retail-demo-store-neptune-opensearch-parameter-group',\n",
    "    DBParameterGroupFamily='neptune1.2',\n",
    "    Description='Parameter group for Neptune OpenSearch integration'\n",
    ")\n",
    "\n",
    "# Enable streams\n",
    "neptune.modify_db_cluster_parameter_group(\n",
    "    DBClusterParameterGroupName=parameter_group_response['DBClusterParameterGroup']['DBClusterParameterGroupName'],\n",
    "    Parameters=[\n",
    "        {\n",
    "            'ParameterName': 'neptune_streams',\n",
    "            'ParameterValue': '1',\n",
    "            'ApplyMethod': 'pending-reboot'\n",
    "        },\n",
    "    ]\n",
    ")\n",
    "\n",
    "# Use the newly created parameter group with our existing cluster\n",
    "neptune.modify_db_cluster(\n",
    "    DBClusterIdentifier=db_cluster_identifier,\n",
    "    ApplyImmediately=True,\n",
    "    DBClusterParameterGroupName=parameter_group_response['DBClusterParameterGroup']['DBClusterParameterGroupName'],\n",
    ")"
   ]
  },
  {
   "cell_type": "markdown",
   "metadata": {},
   "source": [
    "## Amazon Neptune-to-OpenSearch replication setup\n",
    "Amazon Neptune supports full-text search in Gremlin and SPARQL queries using Amazon OpenSearch Service (OpenSearch Service). You can use an AWS CloudFormation stack to link an OpenSearch Service domain to Neptune.\n",
    "\n",
    "We will be following the instructions in [this repository](https://github.com/awslabs/amazon-neptune-tools/tree/master/export-neptune-to-elasticsearch) to index existing data in an Amazon Neptune database in ElasticSearch before enabling Neptune's full-text search integration.\n",
    "\n",
    "### Create keypair for stack creation\n",
    "A keypair is required as a parameter for the stack."
   ]
  },
  {
   "cell_type": "code",
   "execution_count": null,
   "outputs": [],
   "source": [
    "keypair = ec2.create_key_pair(KeyName='retail-demo-store-neptune-opensearch')"
   ],
   "metadata": {
    "collapsed": false
   }
  },
  {
   "cell_type": "markdown",
   "source": [
    "### Launch Stack\n",
    "#### Stack parameters"
   ],
   "metadata": {
    "collapsed": false
   }
  },
  {
   "cell_type": "code",
   "execution_count": null,
   "outputs": [],
   "source": [
    "keypair['KeyName']"
   ],
   "metadata": {
    "collapsed": false
   }
  },
  {
   "cell_type": "markdown",
   "source": [
    "\n",
    "#### The stack\n",
    "\n",
    "\n",
    "| Region | Stack |\n",
    "| ---- | ---- |\n",
    "|US East (N. Virginia) |  [<img src=\"https://s3.amazonaws.com/cloudformation-examples/cloudformation-launch-stack.png\">](https://us-east-1.console.aws.amazon.com/cloudformation/home?region=us-east-1#/stacks/create/review?templateURL=https://s3.amazonaws.com/aws-neptune-customer-samples/neptune-sagemaker/cloudformation-templates/export-neptune-to-elasticsearch/export-neptune-to-elasticsearch.json&stackName=neptune-index) |\n",
    "|US East (Ohio) |  [<img src=\"https://s3.amazonaws.com/cloudformation-examples/cloudformation-launch-stack.png\">](https://us-east-2.console.aws.amazon.com/cloudformation/home?region=us-east-2#/stacks/create/review?templateURL=https://s3.amazonaws.com/aws-neptune-customer-samples/neptune-sagemaker/cloudformation-templates/export-neptune-to-elasticsearch/export-neptune-to-elasticsearch.json&stackName=neptune-index) |\n",
    "|US West (Oregon) |  [<img src=\"https://s3.amazonaws.com/cloudformation-examples/cloudformation-launch-stack.png\">](https://us-west-2.console.aws.amazon.com/cloudformation/home?region=us-west-2#/stacks/create/review?templateURL=https://s3.amazonaws.com/aws-neptune-customer-samples/neptune-sagemaker/cloudformation-templates/export-neptune-to-elasticsearch/export-neptune-to-elasticsearch.json&stackName=neptune-index) |\n",
    "|Europe (Ireland) |  [<img src=\"https://s3.amazonaws.com/cloudformation-examples/cloudformation-launch-stack.png\">](https://eu-west-1.console.aws.amazon.com/cloudformation/home?region=eu-west-1#/stacks/create/review?templateURL=https://s3.amazonaws.com/aws-neptune-customer-samples/neptune-sagemaker/cloudformation-templates/export-neptune-to-elasticsearch/export-neptune-to-elasticsearch.json&stackName=neptune-index) |\n",
    "|Europe (London) |  [<img src=\"https://s3.amazonaws.com/cloudformation-examples/cloudformation-launch-stack.png\">](https://eu-west-2.console.aws.amazon.com/cloudformation/home?region=eu-west-2#/stacks/create/review?templateURL=https://s3.amazonaws.com/aws-neptune-customer-samples/neptune-sagemaker/cloudformation-templates/export-neptune-to-elasticsearch/export-neptune-to-elasticsearch.json&stackName=neptune-index) |\n",
    "|Europe (Frankfurt) |  [<img src=\"https://s3.amazonaws.com/cloudformation-examples/cloudformation-launch-stack.png\">](https://eu-central-1.console.aws.amazon.com/cloudformation/home?region=eu-central-1#/stacks/create/review?templateURL=https://s3.amazonaws.com/aws-neptune-customer-samples/neptune-sagemaker/cloudformation-templates/export-neptune-to-elasticsearch/export-neptune-to-elasticsearch.json&stackName=neptune-index) |\n",
    "|Europe (Stockholm) | [<img src=\"https://s3.amazonaws.com/cloudformation-examples/cloudformation-launch-stack.png\">](https://eu-north-1.console.aws.amazon.com/cloudformation/home?region=eu-north-1#/stacks/create/review?templateURL=https://s3.amazonaws.com/aws-neptune-customer-samples/neptune-sagemaker/cloudformation-templates/export-neptune-to-elasticsearch/export-neptune-to-elasticsearch.json&stackName=neptune-index) |\n",
    "|Asia Pacific (Mumbai) | [<img src=\"https://s3.amazonaws.com/cloudformation-examples/cloudformation-launch-stack.png\">](https://ap-south-1.console.aws.amazon.com/cloudformation/home?region=ap-south-1#/stacks/create/review?templateURL=https://s3.amazonaws.com/aws-neptune-customer-samples/neptune-sagemaker/cloudformation-templates/export-neptune-to-elasticsearch/export-neptune-to-elasticsearch.json&stackName=neptune-index) |\n",
    "|Asia Pacific (Seoul) | [<img src=\"https://s3.amazonaws.com/cloudformation-examples/cloudformation-launch-stack.png\">](https://ap-northeast-2.console.aws.amazon.com/cloudformation/home?region=ap-northeast-2#/stacks/create/review?templateURL=https://s3.amazonaws.com/aws-neptune-customer-samples/neptune-sagemaker/cloudformation-templates/export-neptune-to-elasticsearch/export-neptune-to-elasticsearch.json&stackName=neptune-index) |\n",
    "|Asia Pacific (Singapore) | [<img src=\"https://s3.amazonaws.com/cloudformation-examples/cloudformation-launch-stack.png\">](https://ap-southeast-1.console.aws.amazon.com/cloudformation/home?region=ap-southeast-1#/stacks/create/review?templateURL=https://s3.amazonaws.com/aws-neptune-customer-samples/neptune-sagemaker/cloudformation-templates/export-neptune-to-elasticsearch/export-neptune-to-elasticsearch.json&stackName=neptune-index) |\n",
    "|Asia Pacific (Sydney) | [<img src=\"https://s3.amazonaws.com/cloudformation-examples/cloudformation-launch-stack.png\">](https://ap-southeast-2.console.aws.amazon.com/cloudformation/home?region=ap-southeast-2#/stacks/create/review?templateURL=https://s3.amazonaws.com/aws-neptune-customer-samples/neptune-sagemaker/cloudformation-templates/export-neptune-to-elasticsearch/export-neptune-to-elasticsearch.json&stackName=neptune-index) |\n",
    "|Asia Pacific (Tokyo) | [<img src=\"https://s3.amazonaws.com/cloudformation-examples/cloudformation-launch-stack.png\">](https://ap-northeast-1.console.aws.amazon.com/cloudformation/home?region=ap-northeast-1#/stacks/create/review?templateURL=https://s3.amazonaws.com/aws-neptune-customer-samples/neptune-sagemaker/cloudformation-templates/export-neptune-to-elasticsearch/export-neptune-to-elasticsearch.json&stackName=neptune-index) |\n",
    "\n",
    "\n",
    "### Create batch job to update index\n",
    "Once the stack has successfully created we can invoke the Lambda function that starts the batch job. You can find and copy the command as the `Test` property in the stack output\n"
   ],
   "metadata": {
    "collapsed": false
   }
  },
  {
   "cell_type": "code",
   "execution_count": 21,
   "metadata": {},
   "outputs": [
    {
     "name": "stdout",
     "output_type": "stream",
     "text": [
      "{\"jobName\": \"export-neptune-to-kinesis-22148b50-1683820647036\", \"jobId\": \"6671137f-ab01-4162-a583-9429d51351de\"}{\r\n",
      "    \"StatusCode\": 200,\r\n",
      "    \"ExecutedVersion\": \"$LATEST\"\r\n",
      "}\r\n"
     ]
    }
   ],
   "source": [
    "# Inset command below\n",
    "!"
   ]
  },
  {
   "cell_type": "markdown",
   "source": [
    "#### Wait for batch job to complete\n",
    "Insert the given job id in the output to observe job status."
   ],
   "metadata": {
    "collapsed": false
   }
  },
  {
   "cell_type": "code",
   "execution_count": 22,
   "metadata": {},
   "outputs": [
    {
     "ename": "ClientError",
     "evalue": "An error occurred (AccessDeniedException) when calling the DescribeJobs operation: User: arn:aws:sts::827561349713:assumed-role/retaildemostore-Base-13L7GWHV7GHLM-N-ExecutionRole-1OZ31UKGHN2YD/SageMaker is not authorized to perform: batch:DescribeJobs on resource: *",
     "output_type": "error",
     "traceback": [
      "\u001B[0;31m---------------------------------------------------------------------------\u001B[0m",
      "\u001B[0;31mClientError\u001B[0m                               Traceback (most recent call last)",
      "Cell \u001B[0;32mIn[22], line 8\u001B[0m\n\u001B[1;32m      6\u001B[0m max_time \u001B[38;5;241m=\u001B[39m time\u001B[38;5;241m.\u001B[39mtime() \u001B[38;5;241m+\u001B[39m \u001B[38;5;241m15\u001B[39m\u001B[38;5;241m*\u001B[39m\u001B[38;5;241m60\u001B[39m\n\u001B[1;32m      7\u001B[0m \u001B[38;5;28;01mwhile\u001B[39;00m time\u001B[38;5;241m.\u001B[39mtime() \u001B[38;5;241m<\u001B[39m max_time:\n\u001B[0;32m----> 8\u001B[0m     response \u001B[38;5;241m=\u001B[39m \u001B[43mclient\u001B[49m\u001B[38;5;241;43m.\u001B[39;49m\u001B[43mdescribe_jobs\u001B[49m\u001B[43m(\u001B[49m\n\u001B[1;32m      9\u001B[0m \u001B[43m        \u001B[49m\u001B[43mjobs\u001B[49m\u001B[38;5;241;43m=\u001B[39;49m\u001B[43m[\u001B[49m\n\u001B[1;32m     10\u001B[0m \u001B[43m            \u001B[49m\u001B[38;5;124;43m'\u001B[39;49m\u001B[38;5;124;43m6671137f-ab01-4162-a583-9429d51351de\u001B[39;49m\u001B[38;5;124;43m'\u001B[39;49m\u001B[43m,\u001B[49m\n\u001B[1;32m     11\u001B[0m \u001B[43m        \u001B[49m\u001B[43m]\u001B[49m\n\u001B[1;32m     12\u001B[0m \u001B[43m    \u001B[49m\u001B[43m)\u001B[49m\n\u001B[1;32m     13\u001B[0m     status \u001B[38;5;241m=\u001B[39m response[\u001B[38;5;124m'\u001B[39m\u001B[38;5;124mjobs\u001B[39m\u001B[38;5;124m'\u001B[39m][\u001B[38;5;241m0\u001B[39m][\u001B[38;5;124m'\u001B[39m\u001B[38;5;124mstatus\u001B[39m\u001B[38;5;124m'\u001B[39m]\n\u001B[1;32m     15\u001B[0m     \u001B[38;5;28mprint\u001B[39m(\u001B[38;5;124m\"\u001B[39m\u001B[38;5;124mStatus: \u001B[39m\u001B[38;5;132;01m{}\u001B[39;00m\u001B[38;5;124m\"\u001B[39m\u001B[38;5;241m.\u001B[39mformat(status))\n",
      "File \u001B[0;32m~/anaconda3/envs/python3/lib/python3.10/site-packages/botocore/client.py:530\u001B[0m, in \u001B[0;36mClientCreator._create_api_method.<locals>._api_call\u001B[0;34m(self, *args, **kwargs)\u001B[0m\n\u001B[1;32m    526\u001B[0m     \u001B[38;5;28;01mraise\u001B[39;00m \u001B[38;5;167;01mTypeError\u001B[39;00m(\n\u001B[1;32m    527\u001B[0m         \u001B[38;5;124mf\u001B[39m\u001B[38;5;124m\"\u001B[39m\u001B[38;5;132;01m{\u001B[39;00mpy_operation_name\u001B[38;5;132;01m}\u001B[39;00m\u001B[38;5;124m() only accepts keyword arguments.\u001B[39m\u001B[38;5;124m\"\u001B[39m\n\u001B[1;32m    528\u001B[0m     )\n\u001B[1;32m    529\u001B[0m \u001B[38;5;66;03m# The \"self\" in this scope is referring to the BaseClient.\u001B[39;00m\n\u001B[0;32m--> 530\u001B[0m \u001B[38;5;28;01mreturn\u001B[39;00m \u001B[38;5;28;43mself\u001B[39;49m\u001B[38;5;241;43m.\u001B[39;49m\u001B[43m_make_api_call\u001B[49m\u001B[43m(\u001B[49m\u001B[43moperation_name\u001B[49m\u001B[43m,\u001B[49m\u001B[43m \u001B[49m\u001B[43mkwargs\u001B[49m\u001B[43m)\u001B[49m\n",
      "File \u001B[0;32m~/anaconda3/envs/python3/lib/python3.10/site-packages/botocore/client.py:960\u001B[0m, in \u001B[0;36mBaseClient._make_api_call\u001B[0;34m(self, operation_name, api_params)\u001B[0m\n\u001B[1;32m    958\u001B[0m     error_code \u001B[38;5;241m=\u001B[39m parsed_response\u001B[38;5;241m.\u001B[39mget(\u001B[38;5;124m\"\u001B[39m\u001B[38;5;124mError\u001B[39m\u001B[38;5;124m\"\u001B[39m, {})\u001B[38;5;241m.\u001B[39mget(\u001B[38;5;124m\"\u001B[39m\u001B[38;5;124mCode\u001B[39m\u001B[38;5;124m\"\u001B[39m)\n\u001B[1;32m    959\u001B[0m     error_class \u001B[38;5;241m=\u001B[39m \u001B[38;5;28mself\u001B[39m\u001B[38;5;241m.\u001B[39mexceptions\u001B[38;5;241m.\u001B[39mfrom_code(error_code)\n\u001B[0;32m--> 960\u001B[0m     \u001B[38;5;28;01mraise\u001B[39;00m error_class(parsed_response, operation_name)\n\u001B[1;32m    961\u001B[0m \u001B[38;5;28;01melse\u001B[39;00m:\n\u001B[1;32m    962\u001B[0m     \u001B[38;5;28;01mreturn\u001B[39;00m parsed_response\n",
      "\u001B[0;31mClientError\u001B[0m: An error occurred (AccessDeniedException) when calling the DescribeJobs operation: User: arn:aws:sts::827561349713:assumed-role/retaildemostore-Base-13L7GWHV7GHLM-N-ExecutionRole-1OZ31UKGHN2YD/SageMaker is not authorized to perform: batch:DescribeJobs on resource: *"
     ]
    }
   ],
   "source": [
    "import time\n",
    "\n",
    "status = None\n",
    "max_time = time.time() + 15*60\n",
    "while time.time() < max_time:\n",
    "    response = batch.describe_jobs(\n",
    "        jobs=[\n",
    "            # Inset job id here,\n",
    "        ]\n",
    "    )\n",
    "    status = response['jobs'][0]['status']\n",
    "\n",
    "    print(\"Status: {}\".format(status))\n",
    "\n",
    "    if status == 'SUCCEEDED':\n",
    "        break\n",
    "\n",
    "    time.sleep(30)"
   ]
  },
  {
   "cell_type": "markdown",
   "source": [
    "## Lab 3 Summary\n",
    "In this lab we added the data stored in Neptune to our OpenSearch index."
   ],
   "metadata": {
    "collapsed": false
   }
  }
 ],
 "metadata": {
  "kernelspec": {
   "display_name": "conda_python3",
   "language": "python",
   "name": "conda_python3"
  },
  "language_info": {
   "codemirror_mode": {
    "name": "ipython",
    "version": 3
   },
   "file_extension": ".py",
   "mimetype": "text/x-python",
   "name": "python",
   "nbconvert_exporter": "python",
   "pygments_lexer": "ipython3",
   "version": "3.10.8"
  }
 },
 "nbformat": 4,
 "nbformat_minor": 1
}
