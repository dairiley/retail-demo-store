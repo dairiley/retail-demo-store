{
 "cells": [
  {
   "cell_type": "markdown",
   "metadata": {},
   "source": [
    "# Neptune Workshop Cleanup - Lab 4 (Optional)\n",
    "This notebook walks through deleting all of the resources created by the Neptune Labs in this workshop. You should only need to perform these steps if you have deployed  the Retail Demo Store in your own AWS account and want to deprovision Neptune resources. If you are participating in an AWS-led workshop, this process is likely not necessary."
   ]
  },
  {
   "cell_type": "markdown",
   "source": [
    "## Setup\n",
    "Provision any resources required for cleanup.\n",
    "\n",
    "### Import Dependencies"
   ],
   "metadata": {
    "collapsed": false
   }
  },
  {
   "cell_type": "code",
   "execution_count": null,
   "outputs": [],
   "source": [
    "import boto3\n",
    "import time\n",
    "import requests\n",
    "import pandas as pd"
   ],
   "metadata": {
    "collapsed": false
   }
  },
  {
   "cell_type": "markdown",
   "source": [
    "### Create Clients\n",
    "We will use boto3 to delete the resources that have been created."
   ],
   "metadata": {
    "collapsed": false
   }
  },
  {
   "cell_type": "code",
   "execution_count": null,
   "outputs": [],
   "source": [
    "servicediscovery = boto3.client('servicediscovery')\n",
    "ssm = boto3.client('ssm')\n",
    "dynamodb = boto3.resource('dynamodb')\n",
    "neptune = boto3.client('neptune')\n",
    "ec2 = boto3.client('ec2')"
   ],
   "metadata": {
    "collapsed": false
   }
  },
  {
   "cell_type": "markdown",
   "source": [
    "### Load Saved Variables\n",
    "Load variables saved throughout the labs containing information required to target resources for deletion."
   ],
   "metadata": {
    "collapsed": false
   }
  },
  {
   "cell_type": "code",
   "execution_count": null,
   "outputs": [],
   "source": [
    "%store -r"
   ],
   "metadata": {
    "collapsed": false
   }
  },
  {
   "cell_type": "markdown",
   "source": [
    "## Delete Resources\n",
    "Resources need to be deleted in a specific order to avoid dependency errors. In order, we will delete the Neptune database instance, the Neptune cluster, the subnet group, the parameter group and the security group used to connect to Neptune."
   ],
   "metadata": {
    "collapsed": false
   }
  },
  {
   "cell_type": "code",
   "execution_count": null,
   "outputs": [],
   "source": [
    "# Delete DB instance\n",
    "response = neptune.delete_db_instance(\n",
    "    DBInstanceIdentifier=db_instance_identifier,\n",
    "    SkipFinalSnapshot=True,\n",
    ")\n",
    "# Wait for deletion\n",
    "status = None\n",
    "max_time = time.time() + 15*60\n",
    "while time.time() < max_time:\n",
    "    try:\n",
    "        response = neptune.describe_db_instances(DBInstanceIdentifier=db_instance_identifier)\n",
    "    except:\n",
    "        print('Deletion successful')\n",
    "        break\n",
    "\n",
    "    status = response['DBInstances'][0]['DBInstanceStatus']\n",
    "    print(\"Status: {}\".format(status))\n",
    "\n",
    "    time.sleep(30)"
   ],
   "metadata": {
    "collapsed": false
   }
  },
  {
   "cell_type": "code",
   "execution_count": null,
   "outputs": [],
   "source": [
    "# Delete DB cluster\n",
    "response = neptune.delete_db_cluster(\n",
    "    DBClusterIdentifier=db_cluster_identifier,\n",
    "    SkipFinalSnapshot=True,\n",
    ")\n",
    "# Wait for deletion\n",
    "status = None\n",
    "max_time = time.time() + 15*60\n",
    "while time.time() < max_time:\n",
    "    try:\n",
    "        response = neptune.describe_db_clusters(DBClusterIdentifier=db_cluster_identifier)\n",
    "    except:\n",
    "        print('Deletion successful')\n",
    "        break\n",
    "\n",
    "    status = response['DBClusters'][0]['Status']\n",
    "    print(\"Status: {}\".format(status))\n",
    "\n",
    "    time.sleep(30)"
   ],
   "metadata": {
    "collapsed": false
   }
  },
  {
   "cell_type": "code",
   "execution_count": null,
   "outputs": [],
   "source": [
    "# Delete subnet group\n",
    "neptune.delete_db_subnet_group(\n",
    "    DBSubnetGroupName=db_subnet_group_name\n",
    ")\n",
    "# Delete parameter group\n",
    "neptune.delete_db_cluster_parameter_group(\n",
    "    DBClusterParameterGroupName=parameter_group_name\n",
    ")\n",
    "# Delete security group\n",
    "ec2.delete_security_group(\n",
    "    GroupId=security_group_id\n",
    ")\n",
    "# Delete key pair\n",
    "ec2.delete_key_pair(\n",
    "    KeyName=keypair_name\n",
    ")"
   ],
   "metadata": {
    "collapsed": false
   }
  },
  {
   "cell_type": "markdown",
   "source": [
    "### Delete Stacks\n",
    "The `neptune-index` stack created in Lab 3 can be deleted from the CloudFormation console."
   ],
   "metadata": {
    "collapsed": false
   }
  },
  {
   "cell_type": "markdown",
   "source": [
    "## Reset Resources\n",
    "Some resources (DynamoDB and OpenSearch) were not created specifically for this workshop, but modifications were made over the labs. To revert these changes we have to reset the resources to the state they were in before the workshop.\n",
    "\n",
    "### DynamoDB\n",
    "We added a new attribute to the products table in DynamoDB to store the labels generated by Rekognition. This can be removed from all items."
   ],
   "metadata": {
    "collapsed": false
   }
  },
  {
   "cell_type": "code",
   "execution_count": null,
   "outputs": [],
   "source": [
    "response = servicediscovery.discover_instances(\n",
    "    NamespaceName='retaildemostore.local',\n",
    "    ServiceName='products',\n",
    "    MaxResults=1,\n",
    "    HealthStatus='HEALTHY'\n",
    ")\n",
    "assert len(response['Instances']) > 0, 'Products service instance not found; check ECS to ensure it launched cleanly'\n",
    "\n",
    "products_service_instance = response['Instances'][0]['Attributes']['AWS_INSTANCE_IPV4']\n",
    "response = requests.get('http://{}/products/all'.format(products_service_instance))\n",
    "products = response.json()\n",
    "products_df = pd.DataFrame(products)\n",
    "\n",
    "ddb_table = dynamodb.Table(table_name['Parameter']['Value'])\n",
    "\n",
    "for product in products_df.itertuples():\n",
    "    # Update in DynamoDB\n",
    "    ddb_table.update_item(\n",
    "        Key={'id': product.id},\n",
    "        UpdateExpression=\"REMOVE image_labels\",\n",
    ")"
   ],
   "metadata": {
    "collapsed": false
   }
  },
  {
   "cell_type": "markdown",
   "source": [
    "### OpenSearch\n",
    "The OpenSearch index was updated to contain the data stored in Neptune. To reset the index, complete the [OpenSearch workshop](../0-StartHere/Search.ipynb).\n",
    "\n",
    "## Cleanup Complete\n",
    "All resources create by the Neptune workshop have been deleted."
   ],
   "metadata": {
    "collapsed": false
   }
  }
 ],
 "metadata": {
  "kernelspec": {
   "display_name": "conda_python3",
   "language": "python",
   "name": "conda_python3"
  },
  "language_info": {
   "codemirror_mode": {
    "name": "ipython",
    "version": 3
   },
   "file_extension": ".py",
   "mimetype": "text/x-python",
   "name": "python",
   "nbconvert_exporter": "python",
   "pygments_lexer": "ipython3",
   "version": "3.10.8"
  }
 },
 "nbformat": 4,
 "nbformat_minor": 1
}
