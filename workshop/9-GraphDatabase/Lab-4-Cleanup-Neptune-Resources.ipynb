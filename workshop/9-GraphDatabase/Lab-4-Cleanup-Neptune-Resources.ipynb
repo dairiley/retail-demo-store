{
 "cells": [
  {
   "cell_type": "markdown",
   "source": [
    "# Neptune Workshop Cleanup - Lab 4 (Optional)\n",
    "This notebook walks through deleting all of the resources created by the Neptune Labs in this workshop. You should only need to perform these steps if you have deployed  the Retail Demo Store in your own AWS account and want to deprovision Neptune resources. If you are participating in an AWS-led workshop, this process is likely not necessary."
   ],
   "metadata": {
    "collapsed": false
   }
  }
 ],
 "metadata": {
  "kernelspec": {
   "display_name": "Python 3",
   "language": "python",
   "name": "python3"
  },
  "language_info": {
   "codemirror_mode": {
    "name": "ipython",
    "version": 2
   },
   "file_extension": ".py",
   "mimetype": "text/x-python",
   "name": "python",
   "nbconvert_exporter": "python",
   "pygments_lexer": "ipython2",
   "version": "2.7.6"
  }
 },
 "nbformat": 4,
 "nbformat_minor": 0
}
