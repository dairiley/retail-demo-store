{
 "cells": [
  {
   "cell_type": "markdown",
   "metadata": {
    "collapsed": true
   },
   "source": [
    "# Retail Demo Store - Neptune Workshop - Lab 1\n",
    "Welcome to the Retail Demo Store Neptune Workshop. In this module we will be using [Amazon Rekognition](https://aws.amazon.com/rekognition/) to enrich product data and use that data to create a graph database with [Amazon Neptune](https://aws.amazon.com/neptune/). Over these progressive labs, we will show how a graph database can be integrated with [Amazon Personalize](https://aws.amazon.com/personalize/) and [Amazon OpenSearch Service](https://aws.amazon.com/opensearch-service/) to enhance user recommendations.\n",
    "You should complete the labs in the order specified below.\n",
    "\n",
    "## Workshop overview\n",
    "\n",
    "### Prerequesites\n",
    "This workshop requires that you have set up OpenSearch with the Retail Demo Store. You can do so by completing the OpenSearch lab (0-StartHere), or by building the index automatically as part of deployment (only applicable when creating the CloudFormation stack).\n",
    "\n",
    "### Labs\n",
    "- **Lab 1**: Introduction and data preparation (this lab) (_@todo Add time estimate_)\n",
    "- **Lab 2**: Ingest data into Neptune and construct graph (_@todo Add time estimate_)\n",
    "- **Lab 3**: Integrate Neptune with OpenSearch (_@todo Add time estimate_)\n",
    "\n",
    "### Cleanup\n",
    "The cleanup lab will tear down all of the Neptune resources created by the labs in this workshop.\n",
    "- **Lab 4**: Cleanup resources (_@todo Add time estimate_)"
   ]
  },
  {
   "cell_type": "markdown",
   "metadata": {},
   "source": [
    "## Setup\n",
    "This workshop will be using the Python programming language and the AWS SDK for Python. Even if you are not fluent in Python, the code cells should be reasonably intuitive. In practice, you can use any programming language supported by the AWS SDK to complete the same steps from this workshop in your application environment.\n",
    "\n",
    "### Update Dependencies\n",
    "To get started, we need to perform a bit of setup. First, we need to ensure that a current version of botocore is currently installed. The botocore library is used by boto3, the AWS SDK library for Python.\n",
    "\n",
    "The following cell will update pip and install the latest botocore library."
   ]
  },
  {
   "cell_type": "code",
   "execution_count": 1,
   "metadata": {},
   "outputs": [
    {
     "name": "stdout",
     "output_type": "stream",
     "text": [
      "Looking in indexes: https://pypi.org/simple, https://pip.repos.neuron.amazonaws.com\n",
      "Requirement already satisfied: pip in /home/ec2-user/anaconda3/envs/python3/lib/python3.10/site-packages (22.3.1)\n",
      "Collecting pip\n",
      "  Downloading pip-23.1.2-py3-none-any.whl (2.1 MB)\n",
      "\u001B[2K     \u001B[90m━━━━━━━━━━━━━━━━━━━━━━━━━━━━━━━━━━━━━━━━\u001B[0m \u001B[32m2.1/2.1 MB\u001B[0m \u001B[31m11.7 MB/s\u001B[0m eta \u001B[36m0:00:00\u001B[0m00:01\u001B[0m\n",
      "\u001B[?25hInstalling collected packages: pip\n",
      "  Attempting uninstall: pip\n",
      "    Found existing installation: pip 22.3.1\n",
      "    Uninstalling pip-22.3.1:\n",
      "      Successfully uninstalled pip-22.3.1\n",
      "Successfully installed pip-23.1.2\n",
      "Looking in indexes: https://pypi.org/simple, https://pip.repos.neuron.amazonaws.com\n",
      "Collecting botocore\n",
      "  Downloading botocore-1.29.123-py3-none-any.whl (10.7 MB)\n",
      "\u001B[2K     \u001B[90m━━━━━━━━━━━━━━━━━━━━━━━━━━━━━━━━━━━━━━━━\u001B[0m \u001B[32m10.7/10.7 MB\u001B[0m \u001B[31m25.4 MB/s\u001B[0m eta \u001B[36m0:00:00\u001B[0m00:01\u001B[0m00:01\u001B[0m\n",
      "\u001B[?25hInstalling collected packages: botocore\n",
      "  Attempting uninstall: botocore\n",
      "    Found existing installation: botocore 1.29.71\n",
      "    Uninstalling botocore-1.29.71:\n",
      "      Successfully uninstalled botocore-1.29.71\n",
      "Successfully installed botocore-1.29.123\n"
     ]
    }
   ],
   "source": [
    "import sys\n",
    "!{sys.executable} -m pip install --upgrade pip\n",
    "!{sys.executable} -m pip install --upgrade --no-deps --force-reinstall botocore"
   ]
  },
  {
   "cell_type": "markdown",
   "metadata": {},
   "source": [
    "### Import Dependencies\n",
    "Next we need to import some dependencies and libraries needed to complete this lab."
   ]
  },
  {
   "cell_type": "code",
   "execution_count": 6,
   "metadata": {},
   "outputs": [],
   "source": [
    "import boto3\n",
    "import pandas as pd\n",
    "import requests"
   ]
  },
  {
   "cell_type": "markdown",
   "metadata": {},
   "source": [
    "### Create Clients\n",
    "Next we need to create the AWS service clients needed for this workshop.\n",
    "- **dynamodb**: This resource is used to get all the product information from the pre-existing DynamoDB table.\n",
    "- **s3**: This client is used to fetch product images from S3 in order to pass them into Rekognition.\n",
    "- **rekognition**: This client is used to generate labels from product images to enrich our product data.\n",
    "- **ssm**: This client is used to access application configuration details stored in the Systems Manager parameter store.\n",
    "- **servicediscovery**: this client is used to lookup the local IP addresses of the Retail Demo Store microservices that we'll need in the workshop\n",
    "\n",
    "Finally we'll lookup an identifier, stored as a resource tag in the SageMaker instance at deployment time. We need this tag to lookup resources we need throughout the labs."
   ]
  },
  {
   "cell_type": "code",
   "execution_count": 11,
   "metadata": {},
   "outputs": [
    {
     "name": "stdout",
     "output_type": "stream",
     "text": [
      "Uid: retaildemostore-eu-west-1\n"
     ]
    }
   ],
   "source": [
    "dynamodb = boto3.resource('dynamodb')\n",
    "s3 = boto3.client('s3')\n",
    "rekognition = boto3.client('rekognition')\n",
    "ssm = boto3.client('ssm')\n",
    "servicediscovery = boto3.client('servicediscovery')\n",
    "sagemaker = boto3.client('sagemaker')\n",
    "\n",
    "with open('/opt/ml/metadata/resource-metadata.json') as f:\n",
    "    data = json.load(f)\n",
    "    resource_arn = data[\"ResourceArn\"]\n",
    "\n",
    "response = sagemaker.list_tags(ResourceArn = resource_arn)\n",
    "for tag in response['Tags']:\n",
    "    if tag['Key'] == 'Uid':\n",
    "        Uid = tag['Value']\n",
    "assert Uid is not None, 'Uid could not be determined from notebook instance tags'\n",
    "print('Uid:', Uid)"
   ]
  },
  {
   "cell_type": "markdown",
   "metadata": {},
   "source": [
    "### Lookup DynamoDB table\n",
    "When the Retail Demo Store stack was deployed in this account, a DynamoDB products table was created for you. The ARN of that table was stored in Systems Manager Parameter Store. Using the `ssm` boto3 client we created above, we can retrieve the table ARN."
   ]
  },
  {
   "cell_type": "code",
   "execution_count": 16,
   "metadata": {},
   "outputs": [],
   "source": [
    "table_arn = ssm.get_parameter(\n",
    "    Name='retaildemostore-stack-products-table'\n",
    ")\n",
    "ddb_table = dynamodb.Table(table_arn)\n",
    "#ddb_table = dynamodb.Table('retaildemostore-Base-13L7GWHV7GHLM-Tables-15EXRKL75UM4X-ProductsTable-1WOTHIE6CSX2U')"
   ]
  },
  {
   "cell_type": "markdown",
   "metadata": {},
   "source": [
    "## Enrich Product Metadata with Rekognition\n",
    "To improve the relationships stored by Neptune, the existing product data needs to be enriched as the current product descriptions don't give us a huge amount of information. We used Rekognition for this purpose.\n",
    "\n",
    "Rekognition uses computer vision capabilities to extract information and images fromy our images and videos. As all the products in the Retail Demo Store have an image associated with them, we can use Rekognition to detect labels which give us insight into the product."
   ]
  },
  {
   "cell_type": "markdown",
   "metadata": {},
   "source": [
    "### Get S3 Objects\n",
    "Before we can generate our image labels, we need to get the S3 bucket storing the images and perform a scan operation to get all the product information."
   ]
  },
  {
   "cell_type": "code",
   "execution_count": 68,
   "metadata": {},
   "outputs": [
    {
     "name": "stdout",
     "output_type": "stream",
     "text": [
      "Products Service Instance IP: 10.215.10.49\n"
     ]
    },
    {
     "data": {
      "text/html": [
       "<div>\n",
       "<style scoped>\n",
       "    .dataframe tbody tr th:only-of-type {\n",
       "        vertical-align: middle;\n",
       "    }\n",
       "\n",
       "    .dataframe tbody tr th {\n",
       "        vertical-align: top;\n",
       "    }\n",
       "\n",
       "    .dataframe thead th {\n",
       "        text-align: right;\n",
       "    }\n",
       "</style>\n",
       "<table border=\"1\" class=\"dataframe\">\n",
       "  <thead>\n",
       "    <tr style=\"text-align: right;\">\n",
       "      <th></th>\n",
       "      <th>id</th>\n",
       "      <th>url</th>\n",
       "      <th>sk</th>\n",
       "      <th>name</th>\n",
       "      <th>category</th>\n",
       "      <th>style</th>\n",
       "      <th>description</th>\n",
       "      <th>aliases</th>\n",
       "      <th>price</th>\n",
       "      <th>image</th>\n",
       "      <th>gender_affinity</th>\n",
       "      <th>current_stock</th>\n",
       "      <th>promoted</th>\n",
       "      <th>featured</th>\n",
       "    </tr>\n",
       "  </thead>\n",
       "  <tbody>\n",
       "    <tr>\n",
       "      <th>0</th>\n",
       "      <td>e1669081-8ffc-4dec-97a6-e9176d7f6651</td>\n",
       "      <td>http://d34g24yoqfmrh4.cloudfront.net/#/product...</td>\n",
       "      <td></td>\n",
       "      <td>Sans Pareil Scarf</td>\n",
       "      <td>apparel</td>\n",
       "      <td>scarf</td>\n",
       "      <td>Sans pareil scarf for women</td>\n",
       "      <td>None</td>\n",
       "      <td>124.99</td>\n",
       "      <td>http://d34g24yoqfmrh4.cloudfront.net/images/ap...</td>\n",
       "      <td>F</td>\n",
       "      <td>12</td>\n",
       "      <td>true</td>\n",
       "      <td>NaN</td>\n",
       "    </tr>\n",
       "    <tr>\n",
       "      <th>1</th>\n",
       "      <td>cfafd627-7d6b-43a5-be05-4c7937be417d</td>\n",
       "      <td>http://d34g24yoqfmrh4.cloudfront.net/#/product...</td>\n",
       "      <td></td>\n",
       "      <td>Chef Knife</td>\n",
       "      <td>housewares</td>\n",
       "      <td>kitchen</td>\n",
       "      <td>A must-have for your kitchen</td>\n",
       "      <td>None</td>\n",
       "      <td>57.99</td>\n",
       "      <td>http://d34g24yoqfmrh4.cloudfront.net/images/ho...</td>\n",
       "      <td>NaN</td>\n",
       "      <td>9</td>\n",
       "      <td>NaN</td>\n",
       "      <td>NaN</td>\n",
       "    </tr>\n",
       "    <tr>\n",
       "      <th>...</th>\n",
       "      <td>...</td>\n",
       "      <td>...</td>\n",
       "      <td>...</td>\n",
       "      <td>...</td>\n",
       "      <td>...</td>\n",
       "      <td>...</td>\n",
       "      <td>...</td>\n",
       "      <td>...</td>\n",
       "      <td>...</td>\n",
       "      <td>...</td>\n",
       "      <td>...</td>\n",
       "      <td>...</td>\n",
       "      <td>...</td>\n",
       "      <td>...</td>\n",
       "    </tr>\n",
       "    <tr>\n",
       "      <th>2463</th>\n",
       "      <td>12f93a36-e282-4445-92ae-356eb6a560fd</td>\n",
       "      <td>http://d34g24yoqfmrh4.cloudfront.net/#/product...</td>\n",
       "      <td></td>\n",
       "      <td>Roses Arrangement</td>\n",
       "      <td>floral</td>\n",
       "      <td>arrangement</td>\n",
       "      <td>Roses arrangement grown sustainably on our org...</td>\n",
       "      <td>None</td>\n",
       "      <td>98.99</td>\n",
       "      <td>http://d34g24yoqfmrh4.cloudfront.net/images/fl...</td>\n",
       "      <td>NaN</td>\n",
       "      <td>19</td>\n",
       "      <td>NaN</td>\n",
       "      <td>NaN</td>\n",
       "    </tr>\n",
       "    <tr>\n",
       "      <th>2464</th>\n",
       "      <td>23e77743-ff28-400a-811f-e08d3cab5e45</td>\n",
       "      <td>http://d34g24yoqfmrh4.cloudfront.net/#/product...</td>\n",
       "      <td></td>\n",
       "      <td>Ultrachic Scarf</td>\n",
       "      <td>apparel</td>\n",
       "      <td>scarf</td>\n",
       "      <td>Ultrachic scarf for women for every occasion</td>\n",
       "      <td>None</td>\n",
       "      <td>123.99</td>\n",
       "      <td>http://d34g24yoqfmrh4.cloudfront.net/images/ap...</td>\n",
       "      <td>F</td>\n",
       "      <td>7</td>\n",
       "      <td>NaN</td>\n",
       "      <td>NaN</td>\n",
       "    </tr>\n",
       "  </tbody>\n",
       "</table>\n",
       "<p>2465 rows × 14 columns</p>\n",
       "</div>"
      ],
      "text/plain": [
       "                                        id  \\\n",
       "0     e1669081-8ffc-4dec-97a6-e9176d7f6651   \n",
       "1     cfafd627-7d6b-43a5-be05-4c7937be417d   \n",
       "...                                    ...   \n",
       "2463  12f93a36-e282-4445-92ae-356eb6a560fd   \n",
       "2464  23e77743-ff28-400a-811f-e08d3cab5e45   \n",
       "\n",
       "                                                    url sk               name  \\\n",
       "0     http://d34g24yoqfmrh4.cloudfront.net/#/product...     Sans Pareil Scarf   \n",
       "1     http://d34g24yoqfmrh4.cloudfront.net/#/product...            Chef Knife   \n",
       "...                                                 ... ..                ...   \n",
       "2463  http://d34g24yoqfmrh4.cloudfront.net/#/product...     Roses Arrangement   \n",
       "2464  http://d34g24yoqfmrh4.cloudfront.net/#/product...       Ultrachic Scarf   \n",
       "\n",
       "        category        style  \\\n",
       "0        apparel        scarf   \n",
       "1     housewares      kitchen   \n",
       "...          ...          ...   \n",
       "2463      floral  arrangement   \n",
       "2464     apparel        scarf   \n",
       "\n",
       "                                            description aliases   price  \\\n",
       "0                           Sans pareil scarf for women    None  124.99   \n",
       "1                          A must-have for your kitchen    None   57.99   \n",
       "...                                                 ...     ...     ...   \n",
       "2463  Roses arrangement grown sustainably on our org...    None   98.99   \n",
       "2464       Ultrachic scarf for women for every occasion    None  123.99   \n",
       "\n",
       "                                                  image gender_affinity  \\\n",
       "0     http://d34g24yoqfmrh4.cloudfront.net/images/ap...               F   \n",
       "1     http://d34g24yoqfmrh4.cloudfront.net/images/ho...             NaN   \n",
       "...                                                 ...             ...   \n",
       "2463  http://d34g24yoqfmrh4.cloudfront.net/images/fl...             NaN   \n",
       "2464  http://d34g24yoqfmrh4.cloudfront.net/images/ap...               F   \n",
       "\n",
       "      current_stock promoted featured  \n",
       "0                12     true      NaN  \n",
       "1                 9      NaN      NaN  \n",
       "...             ...      ...      ...  \n",
       "2463             19      NaN      NaN  \n",
       "2464              7      NaN      NaN  \n",
       "\n",
       "[2465 rows x 14 columns]"
      ]
     },
     "execution_count": 68,
     "metadata": {},
     "output_type": "execute_result"
    }
   ],
   "source": [
    "# Get the S3 bucket from ssm\n",
    "bucketresponse = ssm.get_parameter(\n",
    "    Name='retaildemostore-stack-bucket'\n",
    ")\n",
    "bucket = bucketresponse['Parameter']['Value']\n",
    "\n",
    "response = servicediscovery.discover_instances(\n",
    "    NamespaceName='retaildemostore.local',\n",
    "    ServiceName='products',\n",
    "    MaxResults=1,\n",
    "    HealthStatus='HEALTHY'\n",
    ")\n",
    "\n",
    "assert len(response['Instances']) > 0, 'Products service instance not found; check ECS to ensure it launched cleanly'\n",
    "\n",
    "products_service_instance = response['Instances'][0]['Attributes']['AWS_INSTANCE_IPV4']\n",
    "print('Products Service Instance IP: {}'.format(products_service_instance))\n",
    "\n",
    "response = requests.get('http://{}/products/all'.format(products_service_instance))\n",
    "products = response.json()\n",
    "products_df = pd.DataFrame(products)\n",
    "pd.set_option('display.max_rows', 5)\n",
    "\n",
    "products_df"
   ]
  },
  {
   "cell_type": "markdown",
   "metadata": {},
   "source": [
    "Once we have all the variables needed, we can run the `detect_labels` operation for each product image and update the DynamoDB record with the new labels. The process may take a few minutes to complete."
   ]
  },
  {
   "cell_type": "code",
   "execution_count": 92,
   "metadata": {},
   "outputs": [],
   "source": [
    "import re\n",
    "\n",
    "bucket = 'retaildemostore-base-13l7gwhv7ghlm-cl-webuibucket-4p3w695l7mc7'\n",
    "for product in products_df.itertuples():\n",
    "    \n",
    "    # Construct s3 object key\n",
    "    product_image_name = re.sub('^http:\\/\\/.*.cloudfront.net\\/', '', product.image)\n",
    "    \n",
    "    obj = s3.get_object(Bucket=bucket, Key=product_image_name)\n",
    "    \n",
    "    # Get image labels\n",
    "    response = rekognition.detect_labels(Image={'S3Object': {'Bucket': bucket, 'Name': product_image_name}},\n",
    "                                         MaxLabels=10)\n",
    "\n",
    "    # Format response so we only have the keys we need\n",
    "    label_list = []\n",
    "    for label in response['Labels']:\n",
    "        label_list.append({\n",
    "            'Name': label['Name'],\n",
    "            'Confidence': label['Confidence']        \n",
    "        })\n",
    "    \n",
    "    # Update in DynamoDB\n",
    "    ddb_table.update_item(\n",
    "    Key={'id': product.id},\n",
    "    UpdateExpression=\"set image_labels = :image_labels\",\n",
    "    ExpressionAttributeValues={\n",
    "        ':image_labels': json.dumps(label_list),\n",
    "    },\n",
    ")"
   ]
  },
  {
   "cell_type": "markdown",
   "metadata": {},
   "source": [
    "### Test it\n",
    "Once the labels have finished generating and being inserted into DynamoDB, we can view a few of the results.\n",
    "\n",
    "Let's start by getting the a random product row and viewing the image."
   ]
  },
  {
   "cell_type": "code",
   "execution_count": 106,
   "metadata": {},
   "outputs": [
    {
     "data": {
      "text/html": [
       "<img src=\"http://d34g24yoqfmrh4.cloudfront.net/images/accessories/b11944ce-c888-4ddb-8f64-f89a6d628288.jpg\"/>"
      ],
      "text/plain": [
       "<IPython.core.display.Image object>"
      ]
     },
     "metadata": {},
     "output_type": "display_data"
    }
   ],
   "source": [
    "from IPython.display import Image\n",
    "\n",
    "test_product = products_df.iloc[10]\n",
    "\n",
    "display(Image(url=test_product.image))"
   ]
  },
  {
   "cell_type": "markdown",
   "metadata": {},
   "source": [
    "We can then query DynamoDB to get the image labels of our product."
   ]
  },
  {
   "cell_type": "code",
   "execution_count": 107,
   "metadata": {},
   "outputs": [
    {
     "data": {
      "text/plain": [
       "[{'Name': 'Accessories', 'Confidence': 100.0},\n",
       " {'Name': 'Glasses', 'Confidence': 100.0},\n",
       " {'Name': 'Cleaning', 'Confidence': 55.946510314941406},\n",
       " {'Name': 'Person', 'Confidence': 55.946510314941406},\n",
       " {'Name': 'Goggles', 'Confidence': 55.15962219238281}]"
      ]
     },
     "execution_count": 107,
     "metadata": {},
     "output_type": "execute_result"
    }
   ],
   "source": [
    "response = ddb_table.get_item(Key={'id': test_product.id})\n",
    "\n",
    "json.loads(response['Item']['image_labels'])"
   ]
  },
  {
   "cell_type": "markdown",
   "metadata": {},
   "source": [
    "Compare each label with its level of confidence and see how it matches up. For the 10th product, Rekognition has 100% confidence that the image is both an accessory and a pair of glasses. \n",
    "\n",
    "Try changing the test product and see how results change."
   ]
  },
  {
   "cell_type": "markdown",
   "metadata": {},
   "source": [
    "\n",
    "## Lab 1 Summary\n",
    "In this lab, you have used Rekognition to generate image labels for each product in the Retail Demo Store. In the next lab, you will ingest this new product data into Neptune and construct a graph from it.\n",
    "\n",
    "### Store Variables Needed in the Next Lab\n",
    "We will pass some variables initialized in this lab by storing them in the notebook environment."
   ]
  },
  {
   "cell_type": "code",
   "execution_count": 108,
   "metadata": {},
   "outputs": [
    {
     "ename": "PicklingError",
     "evalue": "Can't pickle <class 'boto3.resources.factory.dynamodb.Table'>: attribute lookup dynamodb.Table on boto3.resources.factory failed",
     "output_type": "error",
     "traceback": [
      "\u001B[0;31m---------------------------------------------------------------------------\u001B[0m",
      "\u001B[0;31mPicklingError\u001B[0m                             Traceback (most recent call last)",
      "Cell \u001B[0;32mIn[108], line 1\u001B[0m\n\u001B[0;32m----> 1\u001B[0m \u001B[43mget_ipython\u001B[49m\u001B[43m(\u001B[49m\u001B[43m)\u001B[49m\u001B[38;5;241;43m.\u001B[39;49m\u001B[43mrun_line_magic\u001B[49m\u001B[43m(\u001B[49m\u001B[38;5;124;43m'\u001B[39;49m\u001B[38;5;124;43mstore\u001B[39;49m\u001B[38;5;124;43m'\u001B[39;49m\u001B[43m,\u001B[49m\u001B[43m \u001B[49m\u001B[38;5;124;43m'\u001B[39;49m\u001B[38;5;124;43mddb_table\u001B[39;49m\u001B[38;5;124;43m'\u001B[39;49m\u001B[43m)\u001B[49m\n\u001B[1;32m      2\u001B[0m get_ipython()\u001B[38;5;241m.\u001B[39mrun_line_magic(\u001B[38;5;124m'\u001B[39m\u001B[38;5;124mstore\u001B[39m\u001B[38;5;124m'\u001B[39m, \u001B[38;5;124m'\u001B[39m\u001B[38;5;124mbucket\u001B[39m\u001B[38;5;124m'\u001B[39m)\n\u001B[1;32m      3\u001B[0m get_ipython()\u001B[38;5;241m.\u001B[39mrun_line_magic(\u001B[38;5;124m'\u001B[39m\u001B[38;5;124mstore\u001B[39m\u001B[38;5;124m'\u001B[39m, \u001B[38;5;124m'\u001B[39m\u001B[38;5;124mitems_filename\u001B[39m\u001B[38;5;124m'\u001B[39m)\n",
      "File \u001B[0;32m~/anaconda3/envs/python3/lib/python3.10/site-packages/IPython/core/interactiveshell.py:2369\u001B[0m, in \u001B[0;36mInteractiveShell.run_line_magic\u001B[0;34m(self, magic_name, line, _stack_depth)\u001B[0m\n\u001B[1;32m   2367\u001B[0m     kwargs[\u001B[38;5;124m'\u001B[39m\u001B[38;5;124mlocal_ns\u001B[39m\u001B[38;5;124m'\u001B[39m] \u001B[38;5;241m=\u001B[39m \u001B[38;5;28mself\u001B[39m\u001B[38;5;241m.\u001B[39mget_local_scope(stack_depth)\n\u001B[1;32m   2368\u001B[0m \u001B[38;5;28;01mwith\u001B[39;00m \u001B[38;5;28mself\u001B[39m\u001B[38;5;241m.\u001B[39mbuiltin_trap:\n\u001B[0;32m-> 2369\u001B[0m     result \u001B[38;5;241m=\u001B[39m \u001B[43mfn\u001B[49m\u001B[43m(\u001B[49m\u001B[38;5;241;43m*\u001B[39;49m\u001B[43margs\u001B[49m\u001B[43m,\u001B[49m\u001B[43m \u001B[49m\u001B[38;5;241;43m*\u001B[39;49m\u001B[38;5;241;43m*\u001B[39;49m\u001B[43mkwargs\u001B[49m\u001B[43m)\u001B[49m\n\u001B[1;32m   2370\u001B[0m \u001B[38;5;28;01mreturn\u001B[39;00m result\n",
      "File \u001B[0;32m~/anaconda3/envs/python3/lib/python3.10/site-packages/IPython/extensions/storemagic.py:229\u001B[0m, in \u001B[0;36mStoreMagics.store\u001B[0;34m(self, parameter_s)\u001B[0m\n\u001B[1;32m    227\u001B[0m     \u001B[38;5;28;01mreturn\u001B[39;00m\n\u001B[1;32m    228\u001B[0m \u001B[38;5;66;03m#pickled = pickle.dumps(obj)\u001B[39;00m\n\u001B[0;32m--> 229\u001B[0m \u001B[43mdb\u001B[49m\u001B[43m[\u001B[49m\u001B[43m \u001B[49m\u001B[38;5;124;43m'\u001B[39;49m\u001B[38;5;124;43mautorestore/\u001B[39;49m\u001B[38;5;124;43m'\u001B[39;49m\u001B[43m \u001B[49m\u001B[38;5;241;43m+\u001B[39;49m\u001B[43m \u001B[49m\u001B[43marg\u001B[49m\u001B[43m \u001B[49m\u001B[43m]\u001B[49m \u001B[38;5;241m=\u001B[39m obj\n\u001B[1;32m    230\u001B[0m \u001B[38;5;28mprint\u001B[39m(\u001B[38;5;124m\"\u001B[39m\u001B[38;5;124mStored \u001B[39m\u001B[38;5;124m'\u001B[39m\u001B[38;5;132;01m%s\u001B[39;00m\u001B[38;5;124m'\u001B[39m\u001B[38;5;124m (\u001B[39m\u001B[38;5;132;01m%s\u001B[39;00m\u001B[38;5;124m)\u001B[39m\u001B[38;5;124m\"\u001B[39m \u001B[38;5;241m%\u001B[39m (arg, obj\u001B[38;5;241m.\u001B[39m\u001B[38;5;18m__class__\u001B[39m\u001B[38;5;241m.\u001B[39m\u001B[38;5;18m__name__\u001B[39m))\n",
      "File \u001B[0;32m~/anaconda3/envs/python3/lib/python3.10/site-packages/pickleshare.py:118\u001B[0m, in \u001B[0;36mPickleShareDB.__setitem__\u001B[0;34m(self, key, value)\u001B[0m\n\u001B[1;32m    115\u001B[0m \u001B[38;5;66;03m# We specify protocol 2, so that we can mostly go between Python 2\u001B[39;00m\n\u001B[1;32m    116\u001B[0m \u001B[38;5;66;03m# and Python 3. We can upgrade to protocol 3 when Python 2 is obsolete.\u001B[39;00m\n\u001B[1;32m    117\u001B[0m \u001B[38;5;28;01mwith\u001B[39;00m fil\u001B[38;5;241m.\u001B[39mopen(\u001B[38;5;124m'\u001B[39m\u001B[38;5;124mwb\u001B[39m\u001B[38;5;124m'\u001B[39m) \u001B[38;5;28;01mas\u001B[39;00m f:\n\u001B[0;32m--> 118\u001B[0m     \u001B[43mpickle\u001B[49m\u001B[38;5;241;43m.\u001B[39;49m\u001B[43mdump\u001B[49m\u001B[43m(\u001B[49m\u001B[43mvalue\u001B[49m\u001B[43m,\u001B[49m\u001B[43m \u001B[49m\u001B[43mf\u001B[49m\u001B[43m,\u001B[49m\u001B[43m \u001B[49m\u001B[43mprotocol\u001B[49m\u001B[38;5;241;43m=\u001B[39;49m\u001B[38;5;241;43m2\u001B[39;49m\u001B[43m)\u001B[49m\n\u001B[1;32m    119\u001B[0m \u001B[38;5;28;01mtry\u001B[39;00m:\n\u001B[1;32m    120\u001B[0m     \u001B[38;5;28mself\u001B[39m\u001B[38;5;241m.\u001B[39mcache[fil] \u001B[38;5;241m=\u001B[39m (value, fil\u001B[38;5;241m.\u001B[39mstat()\u001B[38;5;241m.\u001B[39mst_mtime)\n",
      "\u001B[0;31mPicklingError\u001B[0m: Can't pickle <class 'boto3.resources.factory.dynamodb.Table'>: attribute lookup dynamodb.Table on boto3.resources.factory failed"
     ]
    }
   ],
   "source": [
    "%store ddb_table\n",
    "%store bucket\n",
    "%store Uid"
   ]
  },
  {
   "cell_type": "markdown",
   "metadata": {},
   "source": [
    "\n",
    "### Continue to Lab 2\n",
    "Open [Lab 2](./Lab-2-Construct-Graph-with-Neptune.ipynb) to continue the workshop."
   ]
  }
 ],
 "metadata": {
  "kernelspec": {
   "display_name": "conda_python3",
   "language": "python",
   "name": "conda_python3"
  },
  "language_info": {
   "codemirror_mode": {
    "name": "ipython",
    "version": 3
   },
   "file_extension": ".py",
   "mimetype": "text/x-python",
   "name": "python",
   "nbconvert_exporter": "python",
   "pygments_lexer": "ipython3",
   "version": "3.10.8"
  }
 },
 "nbformat": 4,
 "nbformat_minor": 1
}
