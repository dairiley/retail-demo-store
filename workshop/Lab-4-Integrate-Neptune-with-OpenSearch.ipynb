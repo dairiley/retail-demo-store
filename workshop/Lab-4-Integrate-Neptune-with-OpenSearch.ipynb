{
 "cells": [
  {
   "cell_type": "markdown",
   "source": [
    "# Lab 4- Integrate Neptune with OpenSearch\n",
    "In this lab we will configure the existing OpenSearch index to integrate with the Neptune cluster created in Lab 2. This lab expects that you have already created Workshop 0, or have enabled OpenSearch index by default on deployment.\n",
    "\n",
    "To integrate Neptune with OpenSearch, you can use an existing OpenSearch Service cluster that has been populated accoridn go the Neptune data model for OpenSearch data, or you can create an OpenSearch service domain linked with Neptune using an AWS CLoudFormation stack. In this lab, we will be using an existing cluster.\n",
    "\n",
    "## Neptune data model for OpenSearch data\n",
    "Documents in OpenSearch correspond to an entity and store the relevant information for the entity. We compare this to Gremlin, where vertices and edges are considered entities. This means that the OpenSearch documents need to have the information about our vertices and edges in the form of labels and properties.\n",
    "\n",
    "When we set up Neptune in Lab 2, we included labels and properties so our data would fit with this format.\n",
    "\n",
    "### Import dependencies\n",
    "The following libraries are needed for this lab."
   ],
   "metadata": {
    "collapsed": false
   }
  }
 ],
 "metadata": {
  "kernelspec": {
   "display_name": "Python 3",
   "language": "python",
   "name": "python3"
  },
  "language_info": {
   "codemirror_mode": {
    "name": "ipython",
    "version": 2
   },
   "file_extension": ".py",
   "mimetype": "text/x-python",
   "name": "python",
   "nbconvert_exporter": "python",
   "pygments_lexer": "ipython2",
   "version": "2.7.6"
  }
 },
 "nbformat": 4,
 "nbformat_minor": 0
}
